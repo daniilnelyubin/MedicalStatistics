{
 "cells": [
  {
   "cell_type": "code",
   "execution_count": 1,
   "metadata": {},
   "outputs": [],
   "source": [
    "import pandas as pd\n",
    "import numpy as np\n",
    "import seaborn as sns"
   ]
  },
  {
   "cell_type": "code",
   "execution_count": 2,
   "metadata": {},
   "outputs": [],
   "source": [
    "import os"
   ]
  },
  {
   "cell_type": "code",
   "execution_count": 3,
   "metadata": {},
   "outputs": [],
   "source": [
    "col_names = [\n",
    "    'patient_id',\n",
    "    'record_id',\n",
    "    'date',\n",
    "    'time',\n",
    "    'staff',\n",
    "    'hospital',\n",
    "    'department',\n",
    "    'staff_position',\n",
    "    'nan',\n",
    "    'event',\n",
    "    'record_name',\n",
    "    'record_text',\n",
    "    'status',\n",
    "    \n",
    "]"
   ]
  },
  {
   "cell_type": "code",
   "execution_count": 4,
   "metadata": {},
   "outputs": [],
   "source": [
    "ane_df = pd.read_excel(\n",
    "    os.path.join(\"Aneurysm\", 'Aneurysm.xlsx'),\n",
    "    nrows=1000,\n",
    "#     encoding='cp1251',\n",
    "#     sep='\\t',\n",
    "    header=None\n",
    ")"
   ]
  },
  {
   "cell_type": "code",
   "execution_count": 5,
   "metadata": {},
   "outputs": [],
   "source": [
    "pd.set_option('display.max_columns', None)"
   ]
  },
  {
   "cell_type": "code",
   "execution_count": 6,
   "metadata": {},
   "outputs": [
    {
     "data": {
      "text/html": [
       "<div>\n",
       "<style scoped>\n",
       "    .dataframe tbody tr th:only-of-type {\n",
       "        vertical-align: middle;\n",
       "    }\n",
       "\n",
       "    .dataframe tbody tr th {\n",
       "        vertical-align: top;\n",
       "    }\n",
       "\n",
       "    .dataframe thead th {\n",
       "        text-align: right;\n",
       "    }\n",
       "</style>\n",
       "<table border=\"1\" class=\"dataframe\">\n",
       "  <thead>\n",
       "    <tr style=\"text-align: right;\">\n",
       "      <th></th>\n",
       "      <th>0</th>\n",
       "      <th>1</th>\n",
       "      <th>2</th>\n",
       "      <th>3</th>\n",
       "      <th>4</th>\n",
       "      <th>5</th>\n",
       "      <th>6</th>\n",
       "      <th>7</th>\n",
       "      <th>8</th>\n",
       "      <th>9</th>\n",
       "      <th>10</th>\n",
       "      <th>11</th>\n",
       "      <th>12</th>\n",
       "      <th>13</th>\n",
       "      <th>14</th>\n",
       "      <th>15</th>\n",
       "      <th>16</th>\n",
       "      <th>17</th>\n",
       "      <th>18</th>\n",
       "      <th>19</th>\n",
       "      <th>20</th>\n",
       "      <th>21</th>\n",
       "      <th>22</th>\n",
       "      <th>23</th>\n",
       "      <th>24</th>\n",
       "      <th>25</th>\n",
       "      <th>26</th>\n",
       "      <th>27</th>\n",
       "      <th>28</th>\n",
       "      <th>29</th>\n",
       "      <th>30</th>\n",
       "      <th>31</th>\n",
       "      <th>32</th>\n",
       "      <th>33</th>\n",
       "      <th>34</th>\n",
       "      <th>35</th>\n",
       "      <th>36</th>\n",
       "      <th>37</th>\n",
       "      <th>38</th>\n",
       "      <th>39</th>\n",
       "      <th>40</th>\n",
       "      <th>41</th>\n",
       "      <th>42</th>\n",
       "      <th>43</th>\n",
       "      <th>44</th>\n",
       "      <th>45</th>\n",
       "      <th>46</th>\n",
       "      <th>47</th>\n",
       "      <th>48</th>\n",
       "      <th>49</th>\n",
       "      <th>50</th>\n",
       "      <th>51</th>\n",
       "      <th>52</th>\n",
       "      <th>53</th>\n",
       "      <th>54</th>\n",
       "      <th>55</th>\n",
       "      <th>56</th>\n",
       "      <th>57</th>\n",
       "      <th>58</th>\n",
       "      <th>59</th>\n",
       "      <th>60</th>\n",
       "      <th>61</th>\n",
       "      <th>62</th>\n",
       "      <th>63</th>\n",
       "      <th>64</th>\n",
       "      <th>65</th>\n",
       "      <th>66</th>\n",
       "      <th>67</th>\n",
       "      <th>68</th>\n",
       "      <th>69</th>\n",
       "      <th>70</th>\n",
       "      <th>71</th>\n",
       "      <th>72</th>\n",
       "      <th>73</th>\n",
       "      <th>74</th>\n",
       "      <th>75</th>\n",
       "      <th>76</th>\n",
       "      <th>77</th>\n",
       "      <th>78</th>\n",
       "      <th>79</th>\n",
       "      <th>80</th>\n",
       "      <th>81</th>\n",
       "      <th>82</th>\n",
       "      <th>83</th>\n",
       "      <th>84</th>\n",
       "      <th>85</th>\n",
       "      <th>86</th>\n",
       "      <th>87</th>\n",
       "      <th>88</th>\n",
       "      <th>89</th>\n",
       "      <th>90</th>\n",
       "      <th>91</th>\n",
       "      <th>92</th>\n",
       "      <th>93</th>\n",
       "      <th>94</th>\n",
       "      <th>95</th>\n",
       "      <th>96</th>\n",
       "      <th>97</th>\n",
       "      <th>98</th>\n",
       "      <th>99</th>\n",
       "      <th>100</th>\n",
       "      <th>101</th>\n",
       "      <th>102</th>\n",
       "      <th>103</th>\n",
       "      <th>104</th>\n",
       "      <th>105</th>\n",
       "      <th>106</th>\n",
       "      <th>107</th>\n",
       "      <th>108</th>\n",
       "      <th>109</th>\n",
       "      <th>110</th>\n",
       "      <th>111</th>\n",
       "      <th>112</th>\n",
       "      <th>113</th>\n",
       "      <th>114</th>\n",
       "      <th>115</th>\n",
       "      <th>116</th>\n",
       "      <th>117</th>\n",
       "      <th>118</th>\n",
       "      <th>119</th>\n",
       "      <th>120</th>\n",
       "      <th>121</th>\n",
       "      <th>122</th>\n",
       "      <th>123</th>\n",
       "      <th>124</th>\n",
       "      <th>125</th>\n",
       "      <th>126</th>\n",
       "      <th>127</th>\n",
       "      <th>128</th>\n",
       "      <th>129</th>\n",
       "      <th>130</th>\n",
       "      <th>131</th>\n",
       "      <th>132</th>\n",
       "      <th>133</th>\n",
       "      <th>134</th>\n",
       "      <th>135</th>\n",
       "      <th>136</th>\n",
       "      <th>137</th>\n",
       "      <th>138</th>\n",
       "      <th>139</th>\n",
       "      <th>140</th>\n",
       "      <th>141</th>\n",
       "      <th>142</th>\n",
       "      <th>143</th>\n",
       "      <th>144</th>\n",
       "      <th>145</th>\n",
       "      <th>146</th>\n",
       "      <th>147</th>\n",
       "      <th>148</th>\n",
       "      <th>149</th>\n",
       "      <th>150</th>\n",
       "      <th>151</th>\n",
       "      <th>152</th>\n",
       "      <th>153</th>\n",
       "      <th>154</th>\n",
       "      <th>155</th>\n",
       "      <th>156</th>\n",
       "      <th>157</th>\n",
       "      <th>158</th>\n",
       "      <th>159</th>\n",
       "      <th>160</th>\n",
       "      <th>161</th>\n",
       "      <th>162</th>\n",
       "      <th>163</th>\n",
       "      <th>164</th>\n",
       "      <th>165</th>\n",
       "      <th>166</th>\n",
       "      <th>167</th>\n",
       "      <th>168</th>\n",
       "      <th>169</th>\n",
       "      <th>170</th>\n",
       "      <th>171</th>\n",
       "      <th>172</th>\n",
       "      <th>173</th>\n",
       "      <th>174</th>\n",
       "      <th>175</th>\n",
       "      <th>176</th>\n",
       "      <th>177</th>\n",
       "      <th>178</th>\n",
       "      <th>179</th>\n",
       "      <th>180</th>\n",
       "      <th>181</th>\n",
       "      <th>182</th>\n",
       "      <th>183</th>\n",
       "      <th>184</th>\n",
       "      <th>185</th>\n",
       "      <th>186</th>\n",
       "      <th>187</th>\n",
       "      <th>188</th>\n",
       "      <th>189</th>\n",
       "      <th>190</th>\n",
       "      <th>191</th>\n",
       "      <th>192</th>\n",
       "      <th>193</th>\n",
       "      <th>194</th>\n",
       "      <th>195</th>\n",
       "      <th>196</th>\n",
       "      <th>197</th>\n",
       "      <th>198</th>\n",
       "      <th>199</th>\n",
       "      <th>200</th>\n",
       "      <th>201</th>\n",
       "      <th>202</th>\n",
       "      <th>203</th>\n",
       "      <th>204</th>\n",
       "      <th>205</th>\n",
       "      <th>206</th>\n",
       "      <th>207</th>\n",
       "      <th>208</th>\n",
       "      <th>209</th>\n",
       "      <th>210</th>\n",
       "      <th>211</th>\n",
       "      <th>212</th>\n",
       "      <th>213</th>\n",
       "      <th>214</th>\n",
       "      <th>215</th>\n",
       "      <th>216</th>\n",
       "      <th>217</th>\n",
       "      <th>218</th>\n",
       "      <th>219</th>\n",
       "      <th>220</th>\n",
       "      <th>221</th>\n",
       "    </tr>\n",
       "  </thead>\n",
       "  <tbody>\n",
       "    <tr>\n",
       "      <th>0</th>\n",
       "      <td>N</td>\n",
       "      <td>NaN</td>\n",
       "      <td>NaN</td>\n",
       "      <td>Date of birth</td>\n",
       "      <td>1-клапан; 2- аорта; 3-АО+АК</td>\n",
       "      <td>Age</td>\n",
       "      <td>Age 2</td>\n",
       "      <td>Sex, m=1, f=0</td>\n",
       "      <td>Weight</td>\n",
       "      <td>Growth</td>\n",
       "      <td>BMI</td>\n",
       "      <td>BSA</td>\n",
       "      <td>Smoking, 1=Yes</td>\n",
       "      <td>Hypertens</td>\n",
       "      <td>АД мах сист</td>\n",
       "      <td>АД мах диаст</td>\n",
       "      <td>Systolic BP</td>\n",
       "      <td>Diastolic BP</td>\n",
       "      <td>Пульсовое АД</td>\n",
       "      <td>TAV</td>\n",
       "      <td>BAV</td>\n",
       "      <td>ATERos</td>\n",
       "      <td>CTD</td>\n",
       "      <td>ChReumD</td>\n",
       "      <td>Inf End</td>\n",
       "      <td>NaN</td>\n",
       "      <td>MI, Q=1</td>\n",
       "      <td>NaN</td>\n",
       "      <td>NaN</td>\n",
       "      <td>NaN</td>\n",
       "      <td>ATERos 2</td>\n",
       "      <td>TAV 2</td>\n",
       "      <td>BAV 2</td>\n",
       "      <td>CTD 2</td>\n",
       "      <td>ChReumD 2</td>\n",
       "      <td>Inf End 2</td>\n",
       "      <td>KMNecros</td>\n",
       "      <td>бак\\так</td>\n",
       "      <td>Echo1 (date)</td>\n",
       "      <td>Aorta sinus</td>\n",
       "      <td>Aorta ascending</td>\n",
       "      <td>Aorta max</td>\n",
       "      <td>AS (dPmean)</td>\n",
       "      <td>AS (dPmax)</td>\n",
       "      <td>vmax</td>\n",
       "      <td>AVA</td>\n",
       "      <td>EF</td>\n",
       "      <td>IVS</td>\n",
       "      <td>Posterior Wall</td>\n",
       "      <td>масса М</td>\n",
       "      <td>ИММ</td>\n",
       "      <td>отс</td>\n",
       "      <td>End-Diast Dim</td>\n",
       "      <td>End-Sist Dim</td>\n",
       "      <td>MR</td>\n",
       "      <td>AR</td>\n",
       "      <td>PASP</td>\n",
       "      <td>Echo2 (date)</td>\n",
       "      <td>Aorta sinus 2</td>\n",
       "      <td>Aorta ascending 2</td>\n",
       "      <td>Aorta max 2</td>\n",
       "      <td>AS (dPmean) 2</td>\n",
       "      <td>vmax2</td>\n",
       "      <td>AS (dPmax) 2</td>\n",
       "      <td>AVA 2</td>\n",
       "      <td>EF 2</td>\n",
       "      <td>PW 2</td>\n",
       "      <td>IVS 2</td>\n",
       "      <td>MMLV2</td>\n",
       "      <td>отс2</td>\n",
       "      <td>имм2</td>\n",
       "      <td>End-Diast D 2</td>\n",
       "      <td>End-Sist D 2</td>\n",
       "      <td>MR 2</td>\n",
       "      <td>AR 2</td>\n",
       "      <td>PASP 2</td>\n",
       "      <td>Replacement, AV=1, MV=2, AV+MV=3, MV+TV=4</td>\n",
       "      <td>Heredity</td>\n",
       "      <td>Syncope</td>\n",
       "      <td>Chest Pain</td>\n",
       "      <td>Arrhythmia</td>\n",
       "      <td>Dyspnea</td>\n",
       "      <td>CHD(ХСН)</td>\n",
       "      <td>ИБС, 0=нет, 1=есть</td>\n",
       "      <td>ОНМК/ТИА, 0=нет, 1=ОНМК</td>\n",
       "      <td>Стенок. напр, 0=нет,1=1 ф.к, 2=2фк, 3=3фк, 4=п...</td>\n",
       "      <td>COPD</td>\n",
       "      <td>Respir Fail</td>\n",
       "      <td>HyperLip</td>\n",
       "      <td>GIT</td>\n",
       "      <td>ФП, 0=нет, 1=ФП,</td>\n",
       "      <td>Diabetes</td>\n",
       "      <td>Without medicine=1</td>\n",
       "      <td>iACE</td>\n",
       "      <td>ARB</td>\n",
       "      <td>BB</td>\n",
       "      <td>CCB</td>\n",
       "      <td>Statins</td>\n",
       "      <td>Diuretics</td>\n",
       "      <td>AntiCoag</td>\n",
       "      <td>AntiAgg</td>\n",
       "      <td>Nitrates</td>\n",
       "      <td>Glycosides</td>\n",
       "      <td>Hb</td>\n",
       "      <td>RBC</td>\n",
       "      <td>WBC</td>\n",
       "      <td>PLT</td>\n",
       "      <td>ESR</td>\n",
       "      <td>CRP</td>\n",
       "      <td>Glucose</td>\n",
       "      <td>Creatinine</td>\n",
       "      <td>СКФ MDRD</td>\n",
       "      <td>Cholesterol</td>\n",
       "      <td>Triglyc</td>\n",
       "      <td>LDL</td>\n",
       "      <td>HDL</td>\n",
       "      <td>AC</td>\n",
       "      <td>Cor Angiogr</td>\n",
       "      <td>стеноз-КА да=1</td>\n",
       "      <td>LMCA-ствол</td>\n",
       "      <td>LAD</td>\n",
       "      <td>LCX</td>\n",
       "      <td>RCA</td>\n",
       "      <td>РТСА, 0=нет, 1=да</td>\n",
       "      <td>Operation</td>\n",
       "      <td>Pacemaker Imp</td>\n",
       "      <td>акш</td>\n",
       "      <td>пак-1,пак+акш-2, пак+аорта-3, аорта-4, акш+аор...</td>\n",
       "      <td>CT aorta дата из статистики</td>\n",
       "      <td>Ao sinus</td>\n",
       "      <td>Ao ascend</td>\n",
       "      <td>Ao max</td>\n",
       "      <td>BAV-1</td>\n",
       "      <td>NaN</td>\n",
       "      <td>NaN</td>\n",
       "      <td>NaN</td>\n",
       "      <td>NaN</td>\n",
       "      <td>NaN</td>\n",
       "      <td>NaN</td>\n",
       "      <td>NaN</td>\n",
       "      <td>NaN</td>\n",
       "      <td>NaN</td>\n",
       "      <td>NaN</td>\n",
       "      <td>NaN</td>\n",
       "      <td>NaN</td>\n",
       "      <td>NaN</td>\n",
       "      <td>NaN</td>\n",
       "      <td>NaN</td>\n",
       "      <td>Type MiocPerf, R=1, L=2</td>\n",
       "      <td>NaN</td>\n",
       "      <td>NaN</td>\n",
       "      <td>NaN</td>\n",
       "      <td>NaN</td>\n",
       "      <td>NaN</td>\n",
       "      <td>NaN</td>\n",
       "      <td>NaN</td>\n",
       "      <td>NaN</td>\n",
       "      <td>NaN</td>\n",
       "      <td>NaN</td>\n",
       "      <td>NaN</td>\n",
       "      <td>NaN</td>\n",
       "      <td>NaN</td>\n",
       "      <td>NaN</td>\n",
       "      <td>NaN</td>\n",
       "      <td>NaN</td>\n",
       "      <td>NaN</td>\n",
       "      <td>NaN</td>\n",
       "      <td>NaN</td>\n",
       "      <td>NaN</td>\n",
       "      <td>NaN</td>\n",
       "      <td>NaN</td>\n",
       "      <td>NaN</td>\n",
       "      <td>NaN</td>\n",
       "      <td>NaN</td>\n",
       "      <td>NaN</td>\n",
       "      <td>NaN</td>\n",
       "      <td>NaN</td>\n",
       "      <td>NaN</td>\n",
       "      <td>NaN</td>\n",
       "      <td>NaN</td>\n",
       "      <td>ЖЭ</td>\n",
       "      <td>внез смерть в семье</td>\n",
       "      <td>СМЭКГ мин ЧСС</td>\n",
       "      <td>СМЭКГ мах ЧСС</td>\n",
       "      <td>NaN</td>\n",
       "      <td>TR</td>\n",
       "      <td>Left Atrium</td>\n",
       "      <td>Ve</td>\n",
       "      <td>Va</td>\n",
       "      <td>Ve/Va</td>\n",
       "      <td>Tdec</td>\n",
       "      <td>УО1</td>\n",
       "      <td>TR 2</td>\n",
       "      <td>LA 2</td>\n",
       "      <td>Ve 2</td>\n",
       "      <td>Va 2</td>\n",
       "      <td>Ve/Va 2</td>\n",
       "      <td>Tdec 2</td>\n",
       "      <td>УО2</td>\n",
       "      <td>NaN</td>\n",
       "      <td>NaN</td>\n",
       "      <td>NaN</td>\n",
       "      <td>NaN</td>\n",
       "      <td>NaN</td>\n",
       "      <td>умер нет-0, до операции-1, после-2</td>\n",
       "      <td>NaN</td>\n",
       "      <td>NaN</td>\n",
       "      <td>NaN</td>\n",
       "      <td>аор инд 1</td>\n",
       "      <td>АИндекс2</td>\n",
       "      <td>NaN</td>\n",
       "      <td>NaN</td>\n",
       "      <td>NaN</td>\n",
       "      <td>NaN</td>\n",
       "      <td>NaN</td>\n",
       "      <td>NaN</td>\n",
       "      <td>NaN</td>\n",
       "      <td>диссекция, есть -1острая-2</td>\n",
       "      <td>obesity</td>\n",
       "      <td>AS</td>\n",
       "      <td>AR</td>\n",
       "      <td>CAD</td>\n",
       "    </tr>\n",
       "    <tr>\n",
       "      <th>1</th>\n",
       "      <td>1</td>\n",
       "      <td>NaN</td>\n",
       "      <td>NaN</td>\n",
       "      <td>NaN</td>\n",
       "      <td>NaN</td>\n",
       "      <td>22</td>\n",
       "      <td>NaN</td>\n",
       "      <td>0</td>\n",
       "      <td>105.99</td>\n",
       "      <td>190</td>\n",
       "      <td>29.3601</td>\n",
       "      <td>2.36515</td>\n",
       "      <td>0</td>\n",
       "      <td>0</td>\n",
       "      <td>120</td>\n",
       "      <td>80</td>\n",
       "      <td>120</td>\n",
       "      <td>80</td>\n",
       "      <td>40</td>\n",
       "      <td>0</td>\n",
       "      <td>0</td>\n",
       "      <td>0</td>\n",
       "      <td>1</td>\n",
       "      <td>0</td>\n",
       "      <td>0</td>\n",
       "      <td>NaN</td>\n",
       "      <td>0</td>\n",
       "      <td>NaN</td>\n",
       "      <td>2014-04-16 00:00:00</td>\n",
       "      <td>NaN</td>\n",
       "      <td>0</td>\n",
       "      <td>0</td>\n",
       "      <td>0</td>\n",
       "      <td>0</td>\n",
       "      <td>0</td>\n",
       "      <td>0</td>\n",
       "      <td>1</td>\n",
       "      <td>0</td>\n",
       "      <td>NaN</td>\n",
       "      <td>108</td>\n",
       "      <td>NaN</td>\n",
       "      <td>108</td>\n",
       "      <td>NaN</td>\n",
       "      <td>NaN</td>\n",
       "      <td>NaN</td>\n",
       "      <td>NaN</td>\n",
       "      <td>NaN</td>\n",
       "      <td>13</td>\n",
       "      <td>11</td>\n",
       "      <td>544.109</td>\n",
       "      <td>230.053</td>\n",
       "      <td>0.289157</td>\n",
       "      <td>83</td>\n",
       "      <td>58</td>\n",
       "      <td>1</td>\n",
       "      <td>3</td>\n",
       "      <td>NaN</td>\n",
       "      <td>NaN</td>\n",
       "      <td>NaN</td>\n",
       "      <td>NaN</td>\n",
       "      <td>NaN</td>\n",
       "      <td>NaN</td>\n",
       "      <td>NaN</td>\n",
       "      <td>NaN</td>\n",
       "      <td>NaN</td>\n",
       "      <td>NaN</td>\n",
       "      <td>NaN</td>\n",
       "      <td>NaN</td>\n",
       "      <td>NaN</td>\n",
       "      <td>NaN</td>\n",
       "      <td>NaN</td>\n",
       "      <td>NaN</td>\n",
       "      <td>NaN</td>\n",
       "      <td>NaN</td>\n",
       "      <td>NaN</td>\n",
       "      <td>NaN</td>\n",
       "      <td>NaN</td>\n",
       "      <td>NaN</td>\n",
       "      <td>0</td>\n",
       "      <td>0</td>\n",
       "      <td>0</td>\n",
       "      <td>0</td>\n",
       "      <td>0</td>\n",
       "      <td>0</td>\n",
       "      <td>0</td>\n",
       "      <td>0</td>\n",
       "      <td>0</td>\n",
       "      <td>NaN</td>\n",
       "      <td>0</td>\n",
       "      <td>0</td>\n",
       "      <td>0</td>\n",
       "      <td>0</td>\n",
       "      <td>1</td>\n",
       "      <td>0</td>\n",
       "      <td>0</td>\n",
       "      <td>0</td>\n",
       "      <td>0</td>\n",
       "      <td>0</td>\n",
       "      <td>0</td>\n",
       "      <td>0</td>\n",
       "      <td>0</td>\n",
       "      <td>0</td>\n",
       "      <td>0</td>\n",
       "      <td>NaN</td>\n",
       "      <td>NaN</td>\n",
       "      <td>NaN</td>\n",
       "      <td>NaN</td>\n",
       "      <td>NaN</td>\n",
       "      <td>NaN</td>\n",
       "      <td>4.96</td>\n",
       "      <td>62</td>\n",
       "      <td>122.781</td>\n",
       "      <td>4.21</td>\n",
       "      <td>NaN</td>\n",
       "      <td>NaN</td>\n",
       "      <td>NaN</td>\n",
       "      <td>NaN</td>\n",
       "      <td>NaN</td>\n",
       "      <td>NaN</td>\n",
       "      <td>NaN</td>\n",
       "      <td>NaN</td>\n",
       "      <td>NaN</td>\n",
       "      <td>NaN</td>\n",
       "      <td>0</td>\n",
       "      <td>2014-04-16 00:00:00</td>\n",
       "      <td>NaN</td>\n",
       "      <td>NaN</td>\n",
       "      <td>4</td>\n",
       "      <td>2014-04-15 00:00:00</td>\n",
       "      <td>73</td>\n",
       "      <td>104</td>\n",
       "      <td>104</td>\n",
       "      <td>NaN</td>\n",
       "      <td>NaN</td>\n",
       "      <td>NaN</td>\n",
       "      <td>NaN</td>\n",
       "      <td>NaN</td>\n",
       "      <td>NaN</td>\n",
       "      <td>NaN</td>\n",
       "      <td>NaN</td>\n",
       "      <td>NaN</td>\n",
       "      <td>NaN</td>\n",
       "      <td>NaN</td>\n",
       "      <td>NaN</td>\n",
       "      <td>NaN</td>\n",
       "      <td>NaN</td>\n",
       "      <td>NaN</td>\n",
       "      <td>NaN</td>\n",
       "      <td>NaN</td>\n",
       "      <td>NaN</td>\n",
       "      <td>NaN</td>\n",
       "      <td>NaN</td>\n",
       "      <td>NaN</td>\n",
       "      <td>NaN</td>\n",
       "      <td>NaN</td>\n",
       "      <td>NaN</td>\n",
       "      <td>NaN</td>\n",
       "      <td>NaN</td>\n",
       "      <td>NaN</td>\n",
       "      <td>NaN</td>\n",
       "      <td>NaN</td>\n",
       "      <td>NaN</td>\n",
       "      <td>NaN</td>\n",
       "      <td>NaN</td>\n",
       "      <td>NaN</td>\n",
       "      <td>NaN</td>\n",
       "      <td>NaN</td>\n",
       "      <td>NaN</td>\n",
       "      <td>NaN</td>\n",
       "      <td>NaN</td>\n",
       "      <td>NaN</td>\n",
       "      <td>NaN</td>\n",
       "      <td>NaN</td>\n",
       "      <td>NaN</td>\n",
       "      <td>NaN</td>\n",
       "      <td>NaN</td>\n",
       "      <td>NaN</td>\n",
       "      <td>NaN</td>\n",
       "      <td>NaN</td>\n",
       "      <td>NaN</td>\n",
       "      <td>NaN</td>\n",
       "      <td>NaN</td>\n",
       "      <td>NaN</td>\n",
       "      <td>NaN</td>\n",
       "      <td>NaN</td>\n",
       "      <td>NaN</td>\n",
       "      <td>NaN</td>\n",
       "      <td>NaN</td>\n",
       "      <td>NaN</td>\n",
       "      <td>NaN</td>\n",
       "      <td>NaN</td>\n",
       "      <td>NaN</td>\n",
       "      <td>NaN</td>\n",
       "      <td>NaN</td>\n",
       "      <td>NaN</td>\n",
       "      <td>NaN</td>\n",
       "      <td>NaN</td>\n",
       "      <td>NaN</td>\n",
       "      <td>NaN</td>\n",
       "      <td>NaN</td>\n",
       "      <td>NaN</td>\n",
       "      <td>NaN</td>\n",
       "      <td>NaN</td>\n",
       "      <td>NaN</td>\n",
       "      <td>NaN</td>\n",
       "      <td>NaN</td>\n",
       "      <td>NaN</td>\n",
       "      <td>NaN</td>\n",
       "      <td>45.6631</td>\n",
       "      <td>NaN</td>\n",
       "      <td>NaN</td>\n",
       "      <td>NaN</td>\n",
       "      <td>NaN</td>\n",
       "      <td>NaN</td>\n",
       "      <td>NaN</td>\n",
       "      <td>NaN</td>\n",
       "      <td>NaN</td>\n",
       "      <td>NaN</td>\n",
       "      <td>0</td>\n",
       "      <td>0</td>\n",
       "      <td>1</td>\n",
       "      <td>0</td>\n",
       "    </tr>\n",
       "    <tr>\n",
       "      <th>2</th>\n",
       "      <td>6</td>\n",
       "      <td>NaN</td>\n",
       "      <td>NaN</td>\n",
       "      <td>1961-01-29 00:00:00</td>\n",
       "      <td>NaN</td>\n",
       "      <td>52</td>\n",
       "      <td>NaN</td>\n",
       "      <td>1</td>\n",
       "      <td>107.6</td>\n",
       "      <td>192</td>\n",
       "      <td>29.1884</td>\n",
       "      <td>2.39555</td>\n",
       "      <td>1</td>\n",
       "      <td>1</td>\n",
       "      <td>180</td>\n",
       "      <td>130</td>\n",
       "      <td>110</td>\n",
       "      <td>70</td>\n",
       "      <td>40</td>\n",
       "      <td>0</td>\n",
       "      <td>1</td>\n",
       "      <td>1</td>\n",
       "      <td>0</td>\n",
       "      <td>0</td>\n",
       "      <td>0</td>\n",
       "      <td>NaN</td>\n",
       "      <td>0</td>\n",
       "      <td>NaN</td>\n",
       "      <td>2013-05-15 00:00:00</td>\n",
       "      <td>NaN</td>\n",
       "      <td>0</td>\n",
       "      <td>0</td>\n",
       "      <td>1</td>\n",
       "      <td>0</td>\n",
       "      <td>0</td>\n",
       "      <td>1</td>\n",
       "      <td>0</td>\n",
       "      <td>1</td>\n",
       "      <td>2009</td>\n",
       "      <td>47</td>\n",
       "      <td>46</td>\n",
       "      <td>47</td>\n",
       "      <td>42</td>\n",
       "      <td>71</td>\n",
       "      <td>4.21307</td>\n",
       "      <td>NaN</td>\n",
       "      <td>NaN</td>\n",
       "      <td>20</td>\n",
       "      <td>15</td>\n",
       "      <td>395.846</td>\n",
       "      <td>165.242</td>\n",
       "      <td>0.714286</td>\n",
       "      <td>49</td>\n",
       "      <td>29</td>\n",
       "      <td>0</td>\n",
       "      <td>1</td>\n",
       "      <td>NaN</td>\n",
       "      <td>NaN</td>\n",
       "      <td>NaN</td>\n",
       "      <td>NaN</td>\n",
       "      <td>NaN</td>\n",
       "      <td>NaN</td>\n",
       "      <td>NaN</td>\n",
       "      <td>NaN</td>\n",
       "      <td>NaN</td>\n",
       "      <td>NaN</td>\n",
       "      <td>NaN</td>\n",
       "      <td>NaN</td>\n",
       "      <td>NaN</td>\n",
       "      <td>NaN</td>\n",
       "      <td>NaN</td>\n",
       "      <td>NaN</td>\n",
       "      <td>NaN</td>\n",
       "      <td>NaN</td>\n",
       "      <td>NaN</td>\n",
       "      <td>NaN</td>\n",
       "      <td>1</td>\n",
       "      <td>0</td>\n",
       "      <td>0</td>\n",
       "      <td>1</td>\n",
       "      <td>1</td>\n",
       "      <td>1</td>\n",
       "      <td>2</td>\n",
       "      <td>0</td>\n",
       "      <td>0</td>\n",
       "      <td>0</td>\n",
       "      <td>0</td>\n",
       "      <td>0</td>\n",
       "      <td>1</td>\n",
       "      <td>1</td>\n",
       "      <td>0</td>\n",
       "      <td>1</td>\n",
       "      <td>0</td>\n",
       "      <td>1</td>\n",
       "      <td>0</td>\n",
       "      <td>0</td>\n",
       "      <td>0</td>\n",
       "      <td>0</td>\n",
       "      <td>0</td>\n",
       "      <td>0</td>\n",
       "      <td>0</td>\n",
       "      <td>0</td>\n",
       "      <td>0</td>\n",
       "      <td>143</td>\n",
       "      <td>4.82</td>\n",
       "      <td>8.8</td>\n",
       "      <td>127</td>\n",
       "      <td>21</td>\n",
       "      <td>1.96</td>\n",
       "      <td>6.4</td>\n",
       "      <td>92</td>\n",
       "      <td>82.1481</td>\n",
       "      <td>5.93</td>\n",
       "      <td>1.49</td>\n",
       "      <td>4.36</td>\n",
       "      <td>0.89</td>\n",
       "      <td>5.66292</td>\n",
       "      <td>2013-05-11 00:00:00</td>\n",
       "      <td>0</td>\n",
       "      <td>0</td>\n",
       "      <td>0</td>\n",
       "      <td>0</td>\n",
       "      <td>0</td>\n",
       "      <td>0</td>\n",
       "      <td>2013-05-14 00:00:00</td>\n",
       "      <td>0</td>\n",
       "      <td>0</td>\n",
       "      <td>1</td>\n",
       "      <td>2013-04-09 00:00:00</td>\n",
       "      <td>45</td>\n",
       "      <td>41</td>\n",
       "      <td>45</td>\n",
       "      <td>1</td>\n",
       "      <td>NaN</td>\n",
       "      <td>NaN</td>\n",
       "      <td>NaN</td>\n",
       "      <td>NaN</td>\n",
       "      <td>NaN</td>\n",
       "      <td>NaN</td>\n",
       "      <td>NaN</td>\n",
       "      <td>NaN</td>\n",
       "      <td>NaN</td>\n",
       "      <td>NaN</td>\n",
       "      <td>NaN</td>\n",
       "      <td>NaN</td>\n",
       "      <td>NaN</td>\n",
       "      <td>NaN</td>\n",
       "      <td>NaN</td>\n",
       "      <td>1</td>\n",
       "      <td>NaN</td>\n",
       "      <td>NaN</td>\n",
       "      <td>NaN</td>\n",
       "      <td>NaN</td>\n",
       "      <td>NaN</td>\n",
       "      <td>NaN</td>\n",
       "      <td>NaN</td>\n",
       "      <td>NaN</td>\n",
       "      <td>NaN</td>\n",
       "      <td>NaN</td>\n",
       "      <td>NaN</td>\n",
       "      <td>NaN</td>\n",
       "      <td>NaN</td>\n",
       "      <td>NaN</td>\n",
       "      <td>NaN</td>\n",
       "      <td>NaN</td>\n",
       "      <td>NaN</td>\n",
       "      <td>NaN</td>\n",
       "      <td>NaN</td>\n",
       "      <td>NaN</td>\n",
       "      <td>NaN</td>\n",
       "      <td>NaN</td>\n",
       "      <td>NaN</td>\n",
       "      <td>NaN</td>\n",
       "      <td>NaN</td>\n",
       "      <td>NaN</td>\n",
       "      <td>NaN</td>\n",
       "      <td>NaN</td>\n",
       "      <td>NaN</td>\n",
       "      <td>NaN</td>\n",
       "      <td>NaN</td>\n",
       "      <td>0</td>\n",
       "      <td>0</td>\n",
       "      <td>NaN</td>\n",
       "      <td>NaN</td>\n",
       "      <td>NaN</td>\n",
       "      <td>NaN</td>\n",
       "      <td>NaN</td>\n",
       "      <td>NaN</td>\n",
       "      <td>NaN</td>\n",
       "      <td>NaN</td>\n",
       "      <td>NaN</td>\n",
       "      <td>NaN</td>\n",
       "      <td>NaN</td>\n",
       "      <td>NaN</td>\n",
       "      <td>NaN</td>\n",
       "      <td>NaN</td>\n",
       "      <td>NaN</td>\n",
       "      <td>NaN</td>\n",
       "      <td>NaN</td>\n",
       "      <td>NaN</td>\n",
       "      <td>NaN</td>\n",
       "      <td>NaN</td>\n",
       "      <td>NaN</td>\n",
       "      <td>NaN</td>\n",
       "      <td>0</td>\n",
       "      <td>NaN</td>\n",
       "      <td>NaN</td>\n",
       "      <td>NaN</td>\n",
       "      <td>19.6197</td>\n",
       "      <td>NaN</td>\n",
       "      <td>NaN</td>\n",
       "      <td>NaN</td>\n",
       "      <td>NaN</td>\n",
       "      <td>NaN</td>\n",
       "      <td>NaN</td>\n",
       "      <td>NaN</td>\n",
       "      <td>NaN</td>\n",
       "      <td>0</td>\n",
       "      <td>0</td>\n",
       "      <td>1</td>\n",
       "      <td>0</td>\n",
       "      <td>0</td>\n",
       "    </tr>\n",
       "    <tr>\n",
       "      <th>3</th>\n",
       "      <td>10</td>\n",
       "      <td>NaN</td>\n",
       "      <td>NaN</td>\n",
       "      <td>1956-07-04 00:00:00</td>\n",
       "      <td>NaN</td>\n",
       "      <td>53</td>\n",
       "      <td>NaN</td>\n",
       "      <td>1</td>\n",
       "      <td>124</td>\n",
       "      <td>198</td>\n",
       "      <td>31.6294</td>\n",
       "      <td>2.61151</td>\n",
       "      <td>1</td>\n",
       "      <td>1</td>\n",
       "      <td>245</td>\n",
       "      <td>80</td>\n",
       "      <td>150</td>\n",
       "      <td>90</td>\n",
       "      <td>60</td>\n",
       "      <td>1</td>\n",
       "      <td>0</td>\n",
       "      <td>0</td>\n",
       "      <td>0</td>\n",
       "      <td>0</td>\n",
       "      <td>0</td>\n",
       "      <td>NaN</td>\n",
       "      <td>0</td>\n",
       "      <td>NaN</td>\n",
       "      <td>2012-12-11 00:00:00</td>\n",
       "      <td>NaN</td>\n",
       "      <td>0</td>\n",
       "      <td>0</td>\n",
       "      <td>1</td>\n",
       "      <td>1</td>\n",
       "      <td>0</td>\n",
       "      <td>0</td>\n",
       "      <td>1</td>\n",
       "      <td>1</td>\n",
       "      <td>2009</td>\n",
       "      <td>52</td>\n",
       "      <td>45</td>\n",
       "      <td>52</td>\n",
       "      <td>NaN</td>\n",
       "      <td>4</td>\n",
       "      <td>1</td>\n",
       "      <td>NaN</td>\n",
       "      <td>60</td>\n",
       "      <td>17</td>\n",
       "      <td>15</td>\n",
       "      <td>355.338</td>\n",
       "      <td>136.066</td>\n",
       "      <td>0.64</td>\n",
       "      <td>50</td>\n",
       "      <td>35</td>\n",
       "      <td>1</td>\n",
       "      <td>1</td>\n",
       "      <td>41</td>\n",
       "      <td>2012-08-30 00:00:00</td>\n",
       "      <td>56</td>\n",
       "      <td>41</td>\n",
       "      <td>56</td>\n",
       "      <td>NaN</td>\n",
       "      <td>0.72</td>\n",
       "      <td>2.1</td>\n",
       "      <td>NaN</td>\n",
       "      <td>58</td>\n",
       "      <td>17</td>\n",
       "      <td>15</td>\n",
       "      <td>NaN</td>\n",
       "      <td>NaN</td>\n",
       "      <td>NaN</td>\n",
       "      <td>NaN</td>\n",
       "      <td>NaN</td>\n",
       "      <td>1</td>\n",
       "      <td>1</td>\n",
       "      <td>38</td>\n",
       "      <td>0</td>\n",
       "      <td>0</td>\n",
       "      <td>1</td>\n",
       "      <td>1</td>\n",
       "      <td>0</td>\n",
       "      <td>0</td>\n",
       "      <td>0</td>\n",
       "      <td>0</td>\n",
       "      <td>0</td>\n",
       "      <td>0</td>\n",
       "      <td>1</td>\n",
       "      <td>0</td>\n",
       "      <td>1</td>\n",
       "      <td>0</td>\n",
       "      <td>1</td>\n",
       "      <td>0</td>\n",
       "      <td>0</td>\n",
       "      <td>1</td>\n",
       "      <td>0</td>\n",
       "      <td>1</td>\n",
       "      <td>1</td>\n",
       "      <td>1</td>\n",
       "      <td>1</td>\n",
       "      <td>1</td>\n",
       "      <td>0</td>\n",
       "      <td>0</td>\n",
       "      <td>0</td>\n",
       "      <td>152</td>\n",
       "      <td>5.13</td>\n",
       "      <td>6.7</td>\n",
       "      <td>133</td>\n",
       "      <td>5</td>\n",
       "      <td>2.05</td>\n",
       "      <td>6.05</td>\n",
       "      <td>82</td>\n",
       "      <td>93.7487</td>\n",
       "      <td>4.51</td>\n",
       "      <td>1.42</td>\n",
       "      <td>3.09</td>\n",
       "      <td>0.77</td>\n",
       "      <td>4.85714</td>\n",
       "      <td>2012-12-01 00:00:00</td>\n",
       "      <td>NaN</td>\n",
       "      <td>NaN</td>\n",
       "      <td>0</td>\n",
       "      <td>0</td>\n",
       "      <td>0</td>\n",
       "      <td>0</td>\n",
       "      <td>2012-12-11 00:00:00</td>\n",
       "      <td>0</td>\n",
       "      <td>0</td>\n",
       "      <td>4</td>\n",
       "      <td>2012-11-30 00:00:00</td>\n",
       "      <td>59</td>\n",
       "      <td>NaN</td>\n",
       "      <td>NaN</td>\n",
       "      <td>NaN</td>\n",
       "      <td>NaN</td>\n",
       "      <td>NaN</td>\n",
       "      <td>NaN</td>\n",
       "      <td>NaN</td>\n",
       "      <td>NaN</td>\n",
       "      <td>NaN</td>\n",
       "      <td>NaN</td>\n",
       "      <td>NaN</td>\n",
       "      <td>NaN</td>\n",
       "      <td>NaN</td>\n",
       "      <td>NaN</td>\n",
       "      <td>NaN</td>\n",
       "      <td>NaN</td>\n",
       "      <td>NaN</td>\n",
       "      <td>NaN</td>\n",
       "      <td>NaN</td>\n",
       "      <td>NaN</td>\n",
       "      <td>NaN</td>\n",
       "      <td>NaN</td>\n",
       "      <td>NaN</td>\n",
       "      <td>NaN</td>\n",
       "      <td>NaN</td>\n",
       "      <td>NaN</td>\n",
       "      <td>NaN</td>\n",
       "      <td>NaN</td>\n",
       "      <td>NaN</td>\n",
       "      <td>NaN</td>\n",
       "      <td>NaN</td>\n",
       "      <td>NaN</td>\n",
       "      <td>NaN</td>\n",
       "      <td>NaN</td>\n",
       "      <td>NaN</td>\n",
       "      <td>NaN</td>\n",
       "      <td>NaN</td>\n",
       "      <td>NaN</td>\n",
       "      <td>NaN</td>\n",
       "      <td>NaN</td>\n",
       "      <td>NaN</td>\n",
       "      <td>NaN</td>\n",
       "      <td>NaN</td>\n",
       "      <td>NaN</td>\n",
       "      <td>NaN</td>\n",
       "      <td>NaN</td>\n",
       "      <td>NaN</td>\n",
       "      <td>NaN</td>\n",
       "      <td>NaN</td>\n",
       "      <td>NaN</td>\n",
       "      <td>0</td>\n",
       "      <td>0</td>\n",
       "      <td>87</td>\n",
       "      <td>143</td>\n",
       "      <td>NaN</td>\n",
       "      <td>0</td>\n",
       "      <td>48</td>\n",
       "      <td>0.83</td>\n",
       "      <td>0.43</td>\n",
       "      <td>1.9</td>\n",
       "      <td>181</td>\n",
       "      <td>89</td>\n",
       "      <td>1</td>\n",
       "      <td>42</td>\n",
       "      <td>0.92</td>\n",
       "      <td>NaN</td>\n",
       "      <td>NaN</td>\n",
       "      <td>106</td>\n",
       "      <td>70</td>\n",
       "      <td>NaN</td>\n",
       "      <td>NaN</td>\n",
       "      <td>NaN</td>\n",
       "      <td>NaN</td>\n",
       "      <td>NaN</td>\n",
       "      <td>0</td>\n",
       "      <td>NaN</td>\n",
       "      <td>NaN</td>\n",
       "      <td>NaN</td>\n",
       "      <td>19.9118</td>\n",
       "      <td>NaN</td>\n",
       "      <td>NaN</td>\n",
       "      <td>NaN</td>\n",
       "      <td>NaN</td>\n",
       "      <td>NaN</td>\n",
       "      <td>NaN</td>\n",
       "      <td>NaN</td>\n",
       "      <td>NaN</td>\n",
       "      <td>0</td>\n",
       "      <td>1</td>\n",
       "      <td>0</td>\n",
       "      <td>0</td>\n",
       "      <td>0</td>\n",
       "    </tr>\n",
       "    <tr>\n",
       "      <th>4</th>\n",
       "      <td>13</td>\n",
       "      <td>NaN</td>\n",
       "      <td>NaN</td>\n",
       "      <td>NaN</td>\n",
       "      <td>NaN</td>\n",
       "      <td>33</td>\n",
       "      <td>NaN</td>\n",
       "      <td>1</td>\n",
       "      <td>65</td>\n",
       "      <td>165</td>\n",
       "      <td>23.8751</td>\n",
       "      <td>1.72603</td>\n",
       "      <td>1</td>\n",
       "      <td>1</td>\n",
       "      <td>140</td>\n",
       "      <td>110</td>\n",
       "      <td>140</td>\n",
       "      <td>110</td>\n",
       "      <td>30</td>\n",
       "      <td>0</td>\n",
       "      <td>1</td>\n",
       "      <td>0</td>\n",
       "      <td>0</td>\n",
       "      <td>0</td>\n",
       "      <td>0</td>\n",
       "      <td>NaN</td>\n",
       "      <td>0</td>\n",
       "      <td>NaN</td>\n",
       "      <td>2012-02-26 00:00:00</td>\n",
       "      <td>NaN</td>\n",
       "      <td>0</td>\n",
       "      <td>0</td>\n",
       "      <td>0</td>\n",
       "      <td>1</td>\n",
       "      <td>0</td>\n",
       "      <td>0</td>\n",
       "      <td>1</td>\n",
       "      <td>0</td>\n",
       "      <td>NaN</td>\n",
       "      <td>45</td>\n",
       "      <td>54</td>\n",
       "      <td>54</td>\n",
       "      <td>NaN</td>\n",
       "      <td>12</td>\n",
       "      <td>1.73205</td>\n",
       "      <td>NaN</td>\n",
       "      <td>52</td>\n",
       "      <td>13</td>\n",
       "      <td>14</td>\n",
       "      <td>276.435</td>\n",
       "      <td>160.157</td>\n",
       "      <td>0.54</td>\n",
       "      <td>50</td>\n",
       "      <td>29</td>\n",
       "      <td>0</td>\n",
       "      <td>3</td>\n",
       "      <td>39</td>\n",
       "      <td>NaN</td>\n",
       "      <td>NaN</td>\n",
       "      <td>NaN</td>\n",
       "      <td>NaN</td>\n",
       "      <td>NaN</td>\n",
       "      <td>NaN</td>\n",
       "      <td>NaN</td>\n",
       "      <td>NaN</td>\n",
       "      <td>NaN</td>\n",
       "      <td>NaN</td>\n",
       "      <td>NaN</td>\n",
       "      <td>NaN</td>\n",
       "      <td>NaN</td>\n",
       "      <td>NaN</td>\n",
       "      <td>NaN</td>\n",
       "      <td>NaN</td>\n",
       "      <td>NaN</td>\n",
       "      <td>NaN</td>\n",
       "      <td>NaN</td>\n",
       "      <td>0</td>\n",
       "      <td>NaN</td>\n",
       "      <td>0</td>\n",
       "      <td>1</td>\n",
       "      <td>0</td>\n",
       "      <td>1</td>\n",
       "      <td>2</td>\n",
       "      <td>0</td>\n",
       "      <td>0</td>\n",
       "      <td>0</td>\n",
       "      <td>0</td>\n",
       "      <td>0</td>\n",
       "      <td>0</td>\n",
       "      <td>1</td>\n",
       "      <td>0</td>\n",
       "      <td>0</td>\n",
       "      <td>0</td>\n",
       "      <td>0</td>\n",
       "      <td>1</td>\n",
       "      <td>1</td>\n",
       "      <td>0</td>\n",
       "      <td>1</td>\n",
       "      <td>0</td>\n",
       "      <td>0</td>\n",
       "      <td>0</td>\n",
       "      <td>0</td>\n",
       "      <td>NaN</td>\n",
       "      <td>NaN</td>\n",
       "      <td>NaN</td>\n",
       "      <td>NaN</td>\n",
       "      <td>NaN</td>\n",
       "      <td>NaN</td>\n",
       "      <td>18.69</td>\n",
       "      <td>5.18</td>\n",
       "      <td>93</td>\n",
       "      <td>92.6585</td>\n",
       "      <td>3.3</td>\n",
       "      <td>1.45</td>\n",
       "      <td>1.52</td>\n",
       "      <td>1.12</td>\n",
       "      <td>1.94643</td>\n",
       "      <td>NaN</td>\n",
       "      <td>NaN</td>\n",
       "      <td>NaN</td>\n",
       "      <td>NaN</td>\n",
       "      <td>NaN</td>\n",
       "      <td>NaN</td>\n",
       "      <td>0</td>\n",
       "      <td>2012-02-26 00:00:00</td>\n",
       "      <td>NaN</td>\n",
       "      <td>NaN</td>\n",
       "      <td>4</td>\n",
       "      <td>2013-01-31 00:00:00</td>\n",
       "      <td>46</td>\n",
       "      <td>61</td>\n",
       "      <td>NaN</td>\n",
       "      <td>NaN</td>\n",
       "      <td>NaN</td>\n",
       "      <td>NaN</td>\n",
       "      <td>NaN</td>\n",
       "      <td>NaN</td>\n",
       "      <td>NaN</td>\n",
       "      <td>NaN</td>\n",
       "      <td>NaN</td>\n",
       "      <td>NaN</td>\n",
       "      <td>NaN</td>\n",
       "      <td>NaN</td>\n",
       "      <td>NaN</td>\n",
       "      <td>NaN</td>\n",
       "      <td>NaN</td>\n",
       "      <td>NaN</td>\n",
       "      <td>NaN</td>\n",
       "      <td>NaN</td>\n",
       "      <td>NaN</td>\n",
       "      <td>NaN</td>\n",
       "      <td>NaN</td>\n",
       "      <td>NaN</td>\n",
       "      <td>NaN</td>\n",
       "      <td>NaN</td>\n",
       "      <td>NaN</td>\n",
       "      <td>NaN</td>\n",
       "      <td>NaN</td>\n",
       "      <td>NaN</td>\n",
       "      <td>NaN</td>\n",
       "      <td>NaN</td>\n",
       "      <td>NaN</td>\n",
       "      <td>NaN</td>\n",
       "      <td>NaN</td>\n",
       "      <td>NaN</td>\n",
       "      <td>NaN</td>\n",
       "      <td>NaN</td>\n",
       "      <td>NaN</td>\n",
       "      <td>NaN</td>\n",
       "      <td>NaN</td>\n",
       "      <td>NaN</td>\n",
       "      <td>NaN</td>\n",
       "      <td>NaN</td>\n",
       "      <td>NaN</td>\n",
       "      <td>NaN</td>\n",
       "      <td>NaN</td>\n",
       "      <td>NaN</td>\n",
       "      <td>NaN</td>\n",
       "      <td>NaN</td>\n",
       "      <td>NaN</td>\n",
       "      <td>NaN</td>\n",
       "      <td>NaN</td>\n",
       "      <td>NaN</td>\n",
       "      <td>NaN</td>\n",
       "      <td>NaN</td>\n",
       "      <td>NaN</td>\n",
       "      <td>NaN</td>\n",
       "      <td>NaN</td>\n",
       "      <td>NaN</td>\n",
       "      <td>NaN</td>\n",
       "      <td>NaN</td>\n",
       "      <td>NaN</td>\n",
       "      <td>NaN</td>\n",
       "      <td>NaN</td>\n",
       "      <td>NaN</td>\n",
       "      <td>NaN</td>\n",
       "      <td>NaN</td>\n",
       "      <td>NaN</td>\n",
       "      <td>NaN</td>\n",
       "      <td>NaN</td>\n",
       "      <td>NaN</td>\n",
       "      <td>NaN</td>\n",
       "      <td>NaN</td>\n",
       "      <td>NaN</td>\n",
       "      <td>NaN</td>\n",
       "      <td>NaN</td>\n",
       "      <td>NaN</td>\n",
       "      <td>NaN</td>\n",
       "      <td>31.2857</td>\n",
       "      <td>NaN</td>\n",
       "      <td>NaN</td>\n",
       "      <td>NaN</td>\n",
       "      <td>NaN</td>\n",
       "      <td>NaN</td>\n",
       "      <td>NaN</td>\n",
       "      <td>NaN</td>\n",
       "      <td>NaN</td>\n",
       "      <td>NaN</td>\n",
       "      <td>0</td>\n",
       "      <td>0</td>\n",
       "      <td>1</td>\n",
       "      <td>0</td>\n",
       "    </tr>\n",
       "  </tbody>\n",
       "</table>\n",
       "</div>"
      ],
      "text/plain": [
       "  0    1    2                    3                            4    5      6    \\\n",
       "0   N  NaN  NaN        Date of birth  1-клапан; 2- аорта; 3-АО+АК  Age  Age 2   \n",
       "1   1  NaN  NaN                  NaN                          NaN   22    NaN   \n",
       "2   6  NaN  NaN  1961-01-29 00:00:00                          NaN   52    NaN   \n",
       "3  10  NaN  NaN  1956-07-04 00:00:00                          NaN   53    NaN   \n",
       "4  13  NaN  NaN                  NaN                          NaN   33    NaN   \n",
       "\n",
       "             7       8       9        10       11              12         13   \\\n",
       "0  Sex, m=1, f=0  Weight  Growth      BMI      BSA  Smoking, 1=Yes  Hypertens   \n",
       "1              0  105.99     190  29.3601  2.36515               0          0   \n",
       "2              1   107.6     192  29.1884  2.39555               1          1   \n",
       "3              1     124     198  31.6294  2.61151               1          1   \n",
       "4              1      65     165  23.8751  1.72603               1          1   \n",
       "\n",
       "           14            15           16            17            18   19   \\\n",
       "0  АД мах сист  АД мах диаст  Systolic BP  Diastolic BP  Пульсовое АД  TAV   \n",
       "1          120            80          120            80            40    0   \n",
       "2          180           130          110            70            40    0   \n",
       "3          245            80          150            90            60    1   \n",
       "4          140           110          140           110            30    0   \n",
       "\n",
       "   20      21   22       23       24   25       26   27                   28   \\\n",
       "0  BAV  ATERos  CTD  ChReumD  Inf End  NaN  MI, Q=1  NaN                  NaN   \n",
       "1    0       0    1        0        0  NaN        0  NaN  2014-04-16 00:00:00   \n",
       "2    1       1    0        0        0  NaN        0  NaN  2013-05-15 00:00:00   \n",
       "3    0       0    0        0        0  NaN        0  NaN  2012-12-11 00:00:00   \n",
       "4    1       0    0        0        0  NaN        0  NaN  2012-02-26 00:00:00   \n",
       "\n",
       "   29        30     31     32     33         34         35        36   \\\n",
       "0  NaN  ATERos 2  TAV 2  BAV 2  CTD 2  ChReumD 2  Inf End 2  KMNecros   \n",
       "1  NaN         0      0      0      0          0          0         1   \n",
       "2  NaN         0      0      1      0          0          1         0   \n",
       "3  NaN         0      0      1      1          0          0         1   \n",
       "4  NaN         0      0      0      1          0          0         1   \n",
       "\n",
       "       37            38           39               40         41   \\\n",
       "0  бак\\так  Echo1 (date)  Aorta sinus  Aorta ascending  Aorta max   \n",
       "1        0           NaN          108              NaN        108   \n",
       "2        1          2009           47               46         47   \n",
       "3        1          2009           52               45         52   \n",
       "4        0           NaN           45               54         54   \n",
       "\n",
       "           42          43       44   45   46   47              48       49   \\\n",
       "0  AS (dPmean)  AS (dPmax)     vmax  AVA   EF  IVS  Posterior Wall  масса М   \n",
       "1          NaN         NaN      NaN  NaN  NaN   13              11  544.109   \n",
       "2           42          71  4.21307  NaN  NaN   20              15  395.846   \n",
       "3          NaN           4        1  NaN   60   17              15  355.338   \n",
       "4          NaN          12  1.73205  NaN   52   13              14  276.435   \n",
       "\n",
       "       50        51             52            53  54  55    56   \\\n",
       "0      ИММ       отс  End-Diast Dim  End-Sist Dim  MR  AR  PASP   \n",
       "1  230.053  0.289157             83            58   1   3   NaN   \n",
       "2  165.242  0.714286             49            29   0   1   NaN   \n",
       "3  136.066      0.64             50            35   1   1    41   \n",
       "4  160.157      0.54             50            29   0   3    39   \n",
       "\n",
       "                   57             58                 59           60   \\\n",
       "0         Echo2 (date)  Aorta sinus 2  Aorta ascending 2  Aorta max 2   \n",
       "1                  NaN            NaN                NaN          NaN   \n",
       "2                  NaN            NaN                NaN          NaN   \n",
       "3  2012-08-30 00:00:00             56                 41           56   \n",
       "4                  NaN            NaN                NaN          NaN   \n",
       "\n",
       "             61     62            63     64    65    66     67     68    69   \\\n",
       "0  AS (dPmean) 2  vmax2  AS (dPmax) 2  AVA 2  EF 2  PW 2  IVS 2  MMLV2  отс2   \n",
       "1            NaN    NaN           NaN    NaN   NaN   NaN    NaN    NaN   NaN   \n",
       "2            NaN    NaN           NaN    NaN   NaN   NaN    NaN    NaN   NaN   \n",
       "3            NaN   0.72           2.1    NaN    58    17     15    NaN   NaN   \n",
       "4            NaN    NaN           NaN    NaN   NaN   NaN    NaN    NaN   NaN   \n",
       "\n",
       "    70             71            72    73    74      75   \\\n",
       "0  имм2  End-Diast D 2  End-Sist D 2  MR 2  AR 2  PASP 2   \n",
       "1   NaN            NaN           NaN   NaN   NaN     NaN   \n",
       "2   NaN            NaN           NaN   NaN   NaN     NaN   \n",
       "3   NaN            NaN           NaN     1     1      38   \n",
       "4   NaN            NaN           NaN   NaN   NaN     NaN   \n",
       "\n",
       "                                         76        77       78          79   \\\n",
       "0  Replacement, AV=1, MV=2, AV+MV=3, MV+TV=4  Heredity  Syncope  Chest Pain   \n",
       "1                                        NaN       NaN        0           0   \n",
       "2                                          1         0        0           1   \n",
       "3                                          0         0        1           1   \n",
       "4                                          0       NaN        0           1   \n",
       "\n",
       "          80       81        82                  83                       84   \\\n",
       "0  Arrhythmia  Dyspnea  CHD(ХСН)  ИБС, 0=нет, 1=есть  ОНМК/ТИА, 0=нет, 1=ОНМК   \n",
       "1           0        0         0                   0                        0   \n",
       "2           1        1         2                   0                        0   \n",
       "3           0        0         0                   0                        0   \n",
       "4           0        1         2                   0                        0   \n",
       "\n",
       "                                                 85    86           87   \\\n",
       "0  Стенок. напр, 0=нет,1=1 ф.к, 2=2фк, 3=3фк, 4=п...  COPD  Respir Fail   \n",
       "1                                                  0     0          NaN   \n",
       "2                                                  0     0            0   \n",
       "3                                                  0     1            0   \n",
       "4                                                  0     0            0   \n",
       "\n",
       "        88   89                 90        91                  92    93   94   \\\n",
       "0  HyperLip  GIT  ФП, 0=нет, 1=ФП,   Diabetes  Without medicine=1  iACE  ARB   \n",
       "1         0    0                  0         0                   1     0    0   \n",
       "2         1    1                  0         1                   0     1    0   \n",
       "3         1    0                  1         0                   0     1    0   \n",
       "4         0    1                  0         0                   0     0    1   \n",
       "\n",
       "  95   96       97         98        99       100       101         102  103  \\\n",
       "0  BB  CCB  Statins  Diuretics  AntiCoag  AntiAgg  Nitrates  Glycosides   Hb   \n",
       "1   0    0        0          0         0        0         0           0  NaN   \n",
       "2   0    0        0          0         0        0         0           0  143   \n",
       "3   1    1        1          1         1        0         0           0  152   \n",
       "4   1    0        1          0         0        0         0         NaN  NaN   \n",
       "\n",
       "    104  105  106  107    108      109         110       111          112  \\\n",
       "0   RBC  WBC  PLT  ESR    CRP  Glucose  Creatinine  СКФ MDRD  Cholesterol   \n",
       "1   NaN  NaN  NaN  NaN    NaN     4.96          62   122.781         4.21   \n",
       "2  4.82  8.8  127   21   1.96      6.4          92   82.1481         5.93   \n",
       "3  5.13  6.7  133    5   2.05     6.05          82   93.7487         4.51   \n",
       "4   NaN  NaN  NaN  NaN  18.69     5.18          93   92.6585          3.3   \n",
       "\n",
       "       113   114   115      116                  117             118  \\\n",
       "0  Triglyc   LDL   HDL       AC         Cor Angiogr   стеноз-КА да=1   \n",
       "1      NaN   NaN   NaN      NaN                  NaN             NaN   \n",
       "2     1.49  4.36  0.89  5.66292  2013-05-11 00:00:00               0   \n",
       "3     1.42  3.09  0.77  4.85714  2012-12-01 00:00:00             NaN   \n",
       "4     1.45  1.52  1.12  1.94643                  NaN             NaN   \n",
       "\n",
       "          119  120  121  122                123                  124  \\\n",
       "0  LMCA-ствол  LAD  LCX  RCA  РТСА, 0=нет, 1=да           Operation    \n",
       "1         NaN  NaN  NaN  NaN                  0  2014-04-16 00:00:00   \n",
       "2           0    0    0    0                  0  2013-05-14 00:00:00   \n",
       "3         NaN    0    0    0                  0  2012-12-11 00:00:00   \n",
       "4         NaN  NaN  NaN  NaN                  0  2012-02-26 00:00:00   \n",
       "\n",
       "             125  126                                                127  \\\n",
       "0  Pacemaker Imp  акш  пак-1,пак+акш-2, пак+аорта-3, аорта-4, акш+аор...   \n",
       "1            NaN  NaN                                                  4   \n",
       "2              0    0                                                  1   \n",
       "3              0    0                                                  4   \n",
       "4            NaN  NaN                                                  4   \n",
       "\n",
       "                           128       129        130     131    132  133  134  \\\n",
       "0  CT aorta дата из статистики  Ao sinus  Ao ascend  Ao max  BAV-1  NaN  NaN   \n",
       "1          2014-04-15 00:00:00        73        104     104    NaN  NaN  NaN   \n",
       "2          2013-04-09 00:00:00        45         41      45      1  NaN  NaN   \n",
       "3          2012-11-30 00:00:00        59        NaN     NaN    NaN  NaN  NaN   \n",
       "4          2013-01-31 00:00:00        46         61     NaN    NaN  NaN  NaN   \n",
       "\n",
       "   135  136  137  138  139  140  141  142  143  144  145  146  147  \\\n",
       "0  NaN  NaN  NaN  NaN  NaN  NaN  NaN  NaN  NaN  NaN  NaN  NaN  NaN   \n",
       "1  NaN  NaN  NaN  NaN  NaN  NaN  NaN  NaN  NaN  NaN  NaN  NaN  NaN   \n",
       "2  NaN  NaN  NaN  NaN  NaN  NaN  NaN  NaN  NaN  NaN  NaN  NaN  NaN   \n",
       "3  NaN  NaN  NaN  NaN  NaN  NaN  NaN  NaN  NaN  NaN  NaN  NaN  NaN   \n",
       "4  NaN  NaN  NaN  NaN  NaN  NaN  NaN  NaN  NaN  NaN  NaN  NaN  NaN   \n",
       "\n",
       "                       148  149  150  151  152  153  154  155  156  157  158  \\\n",
       "0  Type MiocPerf, R=1, L=2  NaN  NaN  NaN  NaN  NaN  NaN  NaN  NaN  NaN  NaN   \n",
       "1                      NaN  NaN  NaN  NaN  NaN  NaN  NaN  NaN  NaN  NaN  NaN   \n",
       "2                        1  NaN  NaN  NaN  NaN  NaN  NaN  NaN  NaN  NaN  NaN   \n",
       "3                      NaN  NaN  NaN  NaN  NaN  NaN  NaN  NaN  NaN  NaN  NaN   \n",
       "4                      NaN  NaN  NaN  NaN  NaN  NaN  NaN  NaN  NaN  NaN  NaN   \n",
       "\n",
       "   159  160  161  162  163  164  165  166  167  168  169  170  171  172  173  \\\n",
       "0  NaN  NaN  NaN  NaN  NaN  NaN  NaN  NaN  NaN  NaN  NaN  NaN  NaN  NaN  NaN   \n",
       "1  NaN  NaN  NaN  NaN  NaN  NaN  NaN  NaN  NaN  NaN  NaN  NaN  NaN  NaN  NaN   \n",
       "2  NaN  NaN  NaN  NaN  NaN  NaN  NaN  NaN  NaN  NaN  NaN  NaN  NaN  NaN  NaN   \n",
       "3  NaN  NaN  NaN  NaN  NaN  NaN  NaN  NaN  NaN  NaN  NaN  NaN  NaN  NaN  NaN   \n",
       "4  NaN  NaN  NaN  NaN  NaN  NaN  NaN  NaN  NaN  NaN  NaN  NaN  NaN  NaN  NaN   \n",
       "\n",
       "   174  175  176  177  178  179  180                  181            182  \\\n",
       "0  NaN  NaN  NaN  NaN  NaN  NaN   ЖЭ  внез смерть в семье  СМЭКГ мин ЧСС   \n",
       "1  NaN  NaN  NaN  NaN  NaN  NaN  NaN                  NaN            NaN   \n",
       "2  NaN  NaN  NaN  NaN  NaN  NaN    0                    0            NaN   \n",
       "3  NaN  NaN  NaN  NaN  NaN  NaN    0                    0             87   \n",
       "4  NaN  NaN  NaN  NaN  NaN  NaN  NaN                  NaN            NaN   \n",
       "\n",
       "             183  184  185          186   187   188    189   190  191   192  \\\n",
       "0  СМЭКГ мах ЧСС  NaN   TR  Left Atrium    Ve    Va  Ve/Va  Tdec  УО1  TR 2   \n",
       "1            NaN  NaN  NaN          NaN   NaN   NaN    NaN   NaN  NaN   NaN   \n",
       "2            NaN  NaN  NaN          NaN   NaN   NaN    NaN   NaN  NaN   NaN   \n",
       "3            143  NaN    0           48  0.83  0.43    1.9   181   89     1   \n",
       "4            NaN  NaN  NaN          NaN   NaN   NaN    NaN   NaN  NaN   NaN   \n",
       "\n",
       "    193   194   195      196     197  198  199  200  201  202  203  \\\n",
       "0  LA 2  Ve 2  Va 2  Ve/Va 2  Tdec 2  УО2  NaN  NaN  NaN  NaN  NaN   \n",
       "1   NaN   NaN   NaN      NaN     NaN  NaN  NaN  NaN  NaN  NaN  NaN   \n",
       "2   NaN   NaN   NaN      NaN     NaN  NaN  NaN  NaN  NaN  NaN  NaN   \n",
       "3    42  0.92   NaN      NaN     106   70  NaN  NaN  NaN  NaN  NaN   \n",
       "4   NaN   NaN   NaN      NaN     NaN  NaN  NaN  NaN  NaN  NaN  NaN   \n",
       "\n",
       "                                  204  205  206  207        208       209  \\\n",
       "0  умер нет-0, до операции-1, после-2  NaN  NaN  NaN  аор инд 1  АИндекс2   \n",
       "1                                 NaN  NaN  NaN  NaN    45.6631       NaN   \n",
       "2                                   0  NaN  NaN  NaN    19.6197       NaN   \n",
       "3                                   0  NaN  NaN  NaN    19.9118       NaN   \n",
       "4                                 NaN  NaN  NaN  NaN    31.2857       NaN   \n",
       "\n",
       "   210  211  212  213  214  215  216                         217      218 219  \\\n",
       "0  NaN  NaN  NaN  NaN  NaN  NaN  NaN  диссекция, есть -1острая-2  obesity  AS   \n",
       "1  NaN  NaN  NaN  NaN  NaN  NaN  NaN                         NaN        0   0   \n",
       "2  NaN  NaN  NaN  NaN  NaN  NaN  NaN                           0        0   1   \n",
       "3  NaN  NaN  NaN  NaN  NaN  NaN  NaN                           0        1   0   \n",
       "4  NaN  NaN  NaN  NaN  NaN  NaN  NaN                         NaN        0   0   \n",
       "\n",
       "  220  221  \n",
       "0  AR  CAD  \n",
       "1   1    0  \n",
       "2   0    0  \n",
       "3   0    0  \n",
       "4   1    0  "
      ]
     },
     "execution_count": 6,
     "metadata": {},
     "output_type": "execute_result"
    }
   ],
   "source": [
    "ane_df.head()"
   ]
  },
  {
   "cell_type": "code",
   "execution_count": 7,
   "metadata": {},
   "outputs": [],
   "source": [
    "#droped all nan columns with more than 80% of nans\n",
    "ane_df = ane_df.drop(ane_df.columns[ane_df.isnull().sum(axis=0)>ane_df.shape[0]*0.9],axis=1)"
   ]
  },
  {
   "cell_type": "code",
   "execution_count": 8,
   "metadata": {},
   "outputs": [],
   "source": [
    "new_cols = ane_df.iloc[0]"
   ]
  },
  {
   "cell_type": "code",
   "execution_count": 9,
   "metadata": {},
   "outputs": [],
   "source": [
    "old_cols = ane_df.columns"
   ]
  },
  {
   "cell_type": "code",
   "execution_count": 10,
   "metadata": {},
   "outputs": [],
   "source": [
    "change_dct = dict()\n",
    "for idx, col in enumerate(old_cols):\n",
    "    change_dct[col] = new_cols.iloc[idx]"
   ]
  },
  {
   "cell_type": "code",
   "execution_count": 11,
   "metadata": {},
   "outputs": [],
   "source": [
    "ane_df = ane_df.iloc[1:]"
   ]
  },
  {
   "cell_type": "code",
   "execution_count": 12,
   "metadata": {},
   "outputs": [],
   "source": [
    "cleared_ane_df_ = ane_df.rename(columns=change_dct)"
   ]
  },
  {
   "cell_type": "code",
   "execution_count": 13,
   "metadata": {},
   "outputs": [],
   "source": [
    "cleared_ane_df = cleared_ane_df_.rename(columns={'Sex, m=1, f=0':'Sex', 'РТСА, 0=нет, 1=да':'РТСА',np.nan:'Random_date','АД мах сист':'BP_max_sist','АД мах диаст':'BP_max_diast',\"Systolic BP\":\"Systolic_BP\",\"Diastolic BP\":\"Diastolic_BP\",\"Age 2\":\"Second_event\"})"
   ]
  },
  {
   "cell_type": "code",
   "execution_count": 14,
   "metadata": {},
   "outputs": [],
   "source": [
    "cl_df = cleared_ane_df"
   ]
  },
  {
   "cell_type": "code",
   "execution_count": 15,
   "metadata": {},
   "outputs": [],
   "source": [
    "cl_df = cl_df.drop(['N','Date of birth','Random_date','Echo1 (date)','CT aorta дата из статистики',\"диссекция, есть -1острая-2\"],axis=1)"
   ]
  },
  {
   "cell_type": "code",
   "execution_count": 16,
   "metadata": {},
   "outputs": [
    {
     "name": "stderr",
     "output_type": "stream",
     "text": [
      "/opt/miniconda/lib/python3.6/site-packages/ipykernel_launcher.py:2: SettingWithCopyWarning: \n",
      "A value is trying to be set on a copy of a slice from a DataFrame.\n",
      "Try using .loc[row_indexer,col_indexer] = value instead\n",
      "\n",
      "See the caveats in the documentation: http://pandas.pydata.org/pandas-docs/stable/indexing.html#indexing-view-versus-copy\n",
      "  \n"
     ]
    }
   ],
   "source": [
    "# Из за большого количествва nan заменим Age_2  на \"второе происшествие\", тоесть произошел ли второй раз плохой исход.\n",
    "cl_df[\"Second_event\"] = cl_df.Second_event.apply(lambda x: 0 if x is np.nan else 1)"
   ]
  },
  {
   "cell_type": "code",
   "execution_count": 17,
   "metadata": {},
   "outputs": [
    {
     "name": "stderr",
     "output_type": "stream",
     "text": [
      "/opt/miniconda/lib/python3.6/site-packages/ipykernel_launcher.py:1: SettingWithCopyWarning: \n",
      "A value is trying to be set on a copy of a slice from a DataFrame.\n",
      "Try using .loc[row_indexer,col_indexer] = value instead\n",
      "\n",
      "See the caveats in the documentation: http://pandas.pydata.org/pandas-docs/stable/indexing.html#indexing-view-versus-copy\n",
      "  \"\"\"Entry point for launching an IPython kernel.\n"
     ]
    }
   ],
   "source": [
    "cl_df[\"пак-1,пак+акш-2, пак+аорта-3, аорта-4, акш+аорта-5, пак+акш+аорта-6\"] = cl_df[\"пак-1,пак+акш-2, пак+аорта-3, аорта-4, акш+аорта-5, пак+акш+аорта-6\"].apply(lambda x: 0 if x is np.nan else x)"
   ]
  },
  {
   "cell_type": "code",
   "execution_count": 18,
   "metadata": {},
   "outputs": [],
   "source": [
    "cl_df = cl_df.drop(cl_df.columns[cl_df.isnull().sum(axis=0)>200],axis=1)"
   ]
  },
  {
   "cell_type": "code",
   "execution_count": 19,
   "metadata": {},
   "outputs": [],
   "source": [
    "#You can save clear data (cl_df) on this stage"
   ]
  },
  {
   "cell_type": "code",
   "execution_count": 20,
   "metadata": {},
   "outputs": [],
   "source": [
    "#Добавим новые колонки к данным разницу между АД для (АД мах сист/дист) и (Systolic/Dist BP) ['АД мах сист','АД мах диаст','Systolic BP','Diastolic BP']"
   ]
  },
  {
   "cell_type": "code",
   "execution_count": 21,
   "metadata": {},
   "outputs": [],
   "source": [
    "cl_df['BP_max_diff'] = cl_df.apply(lambda x: x.BP_max_sist-x.BP_max_diast,axis=1)\n",
    "cl_df['BP_diff'] = cl_df.apply(lambda x: x.Systolic_BP-x.Diastolic_BP,axis=1)"
   ]
  },
  {
   "cell_type": "code",
   "execution_count": 22,
   "metadata": {},
   "outputs": [],
   "source": [
    "#Добавим нулевое значение к \"1-клапан; 2- аорта; 3-АО+АК\""
   ]
  },
  {
   "cell_type": "code",
   "execution_count": 23,
   "metadata": {},
   "outputs": [],
   "source": [
    "cl_df[\"1-клапан; 2- аорта; 3-АО+АК\"] = cl_df[\"1-клапан; 2- аорта; 3-АО+АК\"].fillna(0)"
   ]
  },
  {
   "cell_type": "code",
   "execution_count": 24,
   "metadata": {},
   "outputs": [],
   "source": [
    "#Дополним смерти"
   ]
  },
  {
   "cell_type": "code",
   "execution_count": 25,
   "metadata": {},
   "outputs": [],
   "source": [
    "# idx_death = (cl_df['умер нет-0, до операции-1, после-2'].isnull()&cl_df['внез смерть в семье'].notnull())\n",
    "# death_not_family = (cl_df['умер нет-0, до операции-1, после-2'].notnull()&cl_df['внез смерть в семье'].isnull())\n",
    "# cl_df['умер нет-0, до операции-1, после-2'][idx] = 0\n",
    "# cl_df['внез смерть в семье'][death_not_family] = 0"
   ]
  },
  {
   "cell_type": "code",
   "execution_count": 26,
   "metadata": {},
   "outputs": [],
   "source": [
    "#Разделим данные с пропусками на те которые можно выбросить и данные для импутера\n",
    "drop_columns = ['AS (dPmax) 2',\"имм2\",\"Left Atrium\",'умер нет-0, до операции-1, после-2','внез смерть в семье',\"LMCA-ствол\",\"Operation \"]"
   ]
  },
  {
   "cell_type": "code",
   "execution_count": 27,
   "metadata": {},
   "outputs": [],
   "source": [
    "# imputer_na = list(cl_df.isnull().sum()[(cl_df.isnull().sum()<20)&(cl_df.isnull().sum()>0)].index)"
   ]
  },
  {
   "cell_type": "code",
   "execution_count": 28,
   "metadata": {},
   "outputs": [],
   "source": [
    "cl_df = cl_df.drop(drop_columns,axis=1)"
   ]
  },
  {
   "cell_type": "code",
   "execution_count": 29,
   "metadata": {},
   "outputs": [],
   "source": [
    "#Оставим фичи у которых только меньше 20% пропусков"
   ]
  },
  {
   "cell_type": "code",
   "execution_count": null,
   "metadata": {},
   "outputs": [],
   "source": []
  },
  {
   "cell_type": "code",
   "execution_count": 30,
   "metadata": {},
   "outputs": [],
   "source": [
    "cl_df_ = cl_df.drop(cl_df.columns[cl_df.isnull().sum()>cl_df.shape[0]*0.2],axis=1)"
   ]
  },
  {
   "cell_type": "code",
   "execution_count": 31,
   "metadata": {},
   "outputs": [],
   "source": [
    "impute_cols = cl_df_.columns"
   ]
  },
  {
   "cell_type": "code",
   "execution_count": 32,
   "metadata": {},
   "outputs": [],
   "source": [
    "from sklearn.experimental import enable_iterative_imputer \n",
    "from sklearn.impute import KNNImputer\n",
    "import sys\n",
    "import traceback\n",
    "import pandas as pd\n",
    "import numpy as np\n",
    "from functools import partial\n",
    "import xxhash\n",
    "from scipy.stats import pearsonr, spearmanr\n",
    "from sklearn.metrics import mean_squared_error, mean_absolute_error, r2_score, \\\n",
    "    roc_auc_score, log_loss\n",
    "from sklearn.neighbors import NearestNeighbors\n",
    "from ngboost import NGBRegressor\n",
    "from ngboost.distns import Exponential, Normal, LogNormal\n",
    "from ngboost.scores import LogScore, CRPScore\n",
    "from sklearn.tree import DecisionTreeRegressor\n",
    "from sklearn.model_selection import train_test_split\n",
    "from sklearn.model_selection import RepeatedKFold\n",
    "from sklearn.preprocessing import MinMaxScaler\n",
    "import gc\n",
    "import xgboost as xgb\n",
    "import optuna\n",
    "import json\n",
    "import hashlib\n",
    "import os\n",
    "from datetime import datetime\n",
    "import ast\n",
    "import warnings\n",
    "warnings.filterwarnings(\"ignore\", category=FutureWarning)\n",
    "from sklearn.model_selection import train_test_split,KFold\n",
    "from sklearn.metrics import roc_auc_score\n",
    "from catboost import CatBoostClassifier"
   ]
  },
  {
   "cell_type": "code",
   "execution_count": 33,
   "metadata": {},
   "outputs": [],
   "source": [
    "knn = KNNImputer(n_neighbors=5)\n",
    "knn = knn.fit_transform(cl_df_.to_numpy())"
   ]
  },
  {
   "cell_type": "code",
   "execution_count": 34,
   "metadata": {},
   "outputs": [],
   "source": [
    "df = pd.DataFrame(data=knn, index=cl_df_.index, columns=cl_df_.columns) "
   ]
  },
  {
   "cell_type": "code",
   "execution_count": 35,
   "metadata": {},
   "outputs": [],
   "source": [
    "therapy_traget = df['пак-1,пак+акш-2, пак+аорта-3, аорта-4, акш+аорта-5, пак+акш+аорта-6'] \n",
    "rtca_target = df['РТСА']\n",
    "df = df.drop(['пак-1,пак+акш-2, пак+аорта-3, аорта-4, акш+аорта-5, пак+акш+аорта-6', 'РТСА'],axis=1)"
   ]
  },
  {
   "cell_type": "code",
   "execution_count": 36,
   "metadata": {},
   "outputs": [],
   "source": [
    "rtca_target = pd.Series(np.array([0 if i<0.5 else 1 for i in rtca_target]))"
   ]
  },
  {
   "cell_type": "code",
   "execution_count": 78,
   "metadata": {},
   "outputs": [
    {
     "data": {
      "text/plain": [
       "(28, 259)"
      ]
     },
     "execution_count": 78,
     "metadata": {},
     "output_type": "execute_result"
    }
   ],
   "source": [
    "rtca_target.value_counts()[1],rtca_target.value_counts()[0]"
   ]
  },
  {
   "cell_type": "code",
   "execution_count": 38,
   "metadata": {},
   "outputs": [],
   "source": [
    "def set_optuna_params(trial, model=\"catboost\"):\n",
    "    returned_params = dict()\n",
    "    if model == 'ngboost':\n",
    "        returned_params = {\n",
    "            'Dist': trial.suggest_categorical('Dist', [Normal]),\n",
    "            'Score': trial.suggest_categorical('Score', [LogScore, CRPScore]),\n",
    "            'n_estimators':\n",
    "                trial.suggest_categorical('n_estimators', [10, 20, 30, 50,70, 90, 100]),\n",
    "            'learning_rate': trial.suggest_categorical('learning_rate', [0.3, 0.2,\n",
    "                                                                         0.15, 0.1,\n",
    "                                                                         0.05,  0.03,\n",
    "                                                                         0.02, 0.01],),\n",
    "            'base_criterion': trial.suggest_categorical('base_criterion', [\n",
    "                'mse', \"friedman_mse\", \"mae\", \"poisson\"]),\n",
    "            'base_max_depth': trial.suggest_int('base_max_depth', 2, 14),\n",
    "            'base_min_samples_leaf': trial.suggest_categorical('base_min_samples_leaf',\n",
    "                [1, 3, 5, 10, 15, 20, 30, 50]),\n",
    "            'base_min_impurity_split': trial.suggest_categorical(\n",
    "                'base_min_impurity_split', [0, 1e-5, 1e-4, 1e-3, 1e-2, 1e-1, 1]\n",
    "            )\n",
    "\n",
    "        }\n",
    "    if model == 'xgboost':\n",
    "        returned_params = {\n",
    "            'n_estimators':trial.suggest_categorical('n_estimators', [10, 20, 30, 50, 100, 150, 200, 250, 300, 350, 400, 450, 500]),\n",
    "            'max_depth': trial.suggest_int('max_depth', 2, 20),\n",
    "            'max_delta_step': trial.suggest_categorical('max_delta_step', [0, 1e-5,1e-4, 1e-3, 1e-2, 1e-1, 1]),\n",
    "            'colsample_bytree': trial.suggest_categorical('colsample_bytree', [0.1, 0.2,0.3, 0.4, 0.5, 0.6, 0.7, 0.8, 0.9, 1.0]),\n",
    "            'max_leaves': trial.suggest_categorical('max_leaves', [7, 15, 31, 63, 127, 255, 511, 1023]),\n",
    "            'max_bin': trial.suggest_categorical('max_bin', [31, 63, 127, 255, 511]),\n",
    "            'eta': trial.suggest_categorical('eta', [0.3, 0.2, 0.15, 0.1, 0.05, 0.03, 0.02, 0.01]),\n",
    "            'subsample': trial.suggest_categorical('subsample', [0.3, 0.4, 0.5, 0.6, 0.7, 0.8, 0.9, 1.0]),\n",
    "            'scale_pos_weight': trial.suggest_categorical('scale_pos_weight',[1.0, 8,9,1/8,1/9,2,0.5]),\n",
    "            \"tree_method\": 'hist',\n",
    "            'random_state': 45,\n",
    "            \"use_label_encoder\":False\n",
    "        }\n",
    "    if model == 'catboost':\n",
    "        returned_params = {\n",
    "            'n_estimators':trial.suggest_categorical('n_estimators', [10, 20, 30, 50, 100, 150, 200, 250, 300, 350, 400, 450, 500]),\n",
    "            'max_depth': trial.suggest_int('max_depth', 2, 16),\n",
    "            'colsample_bylevel': trial.suggest_categorical('colsample_bylevel', [0.1, 0.2,0.3, 0.4, 0.5, 0.6, 0.7, 0.8, 0.9, 1.0]),\n",
    "            'max_bin': trial.suggest_categorical('max_bin', [31, 63, 127, 255, 511]),\n",
    "            'eta': trial.suggest_categorical('eta', [0.3, 0.2, 0.15, 0.1, 0.05, 0.03, 0.02, 0.01]),\n",
    "            'subsample': trial.suggest_categorical('subsample', [0.3, 0.4, 0.5, 0.6, 0.7, 0.8, 0.9, 1.0]),\n",
    "            'auto_class_weights': 'Balanced',\n",
    "            'random_state': 45,\n",
    "            'logging_level':'Silent'\n",
    "        }\n",
    "\n",
    "    return returned_params"
   ]
  },
  {
   "cell_type": "code",
   "execution_count": 39,
   "metadata": {},
   "outputs": [],
   "source": [
    "def get_hash_for_params(params_dict):\n",
    "    hash_list = [hashlib.sha1(str(params_dict[key]).encode(\"utf-8\")).hexdigest() for key in params_dict]\n",
    "    return hashlib.md5(str(hash_list).encode(\"utf-8\")).hexdigest()\n",
    "\n",
    "\n",
    "def write_optuna_hash(hash_, result, file_prefix=''):\n",
    "    file_name = file_prefix + 'optuna_hash.csv'\n",
    "    if not os.path.isfile(file_name):\n",
    "        with open(file_name, \"a+\") as f:\n",
    "            f.write(f\"hash,result\\n\")\n",
    "            f.write(f\"{hash_},{result}\\n\")\n",
    "        return\n",
    "    with open(file_name, \"a+\") as f:\n",
    "        f.write(f\"{hash_},{result}\\n\")\n",
    "\n",
    "\n",
    "def get_hash_dict(file_prefix=''):\n",
    "    return dict(pd.read_csv(file_prefix + 'optuna_hash.csv').values) "
   ]
  },
  {
   "cell_type": "code",
   "execution_count": 40,
   "metadata": {},
   "outputs": [],
   "source": [
    "def get_best_params(path_to_file):\n",
    "    with open(path_to_file) as file:\n",
    "        data = ast.literal_eval(file.read())\n",
    "    return data"
   ]
  },
  {
   "cell_type": "code",
   "execution_count": 41,
   "metadata": {},
   "outputs": [],
   "source": [
    "def train_optuna(x, y, optuna_params = None,model='catboost'):\n",
    "    print('Starting fit')\n",
    "    if model == 'ngboost':\n",
    "        ngboost_params = dict()\n",
    "        base_learner_params = dict()\n",
    "        for k in optuna_params:\n",
    "            if \"base_\" in k:\n",
    "                base_learner_params[k[5:]] = optuna_params[k]\n",
    "            else:\n",
    "                ngboost_params[k] = optuna_params[k]\n",
    "\n",
    "        learner = DecisionTreeRegressor(**base_learner_params)\n",
    "        ngboost_params['Base'] = learner\n",
    "        model = NGBRegressor(**ngboost_params)\n",
    "\n",
    "        model.fit(x, y)\n",
    "\n",
    "        print('Fitting done')\n",
    "    if model == 'xgboost':\n",
    "        model = xgb.XGBClassifier(**optuna_params)\n",
    "        model.fit(x, y)\n",
    "    if model == 'catboost':\n",
    "        model = CatBoostClassifier(**optuna_params)\n",
    "        model.fit(x,y)\n",
    "\n",
    "    return model"
   ]
  },
  {
   "cell_type": "code",
   "execution_count": 65,
   "metadata": {},
   "outputs": [],
   "source": [
    "from sklearn.metrics import f1_score\n",
    "def test_optuna(model,X ,y_true):\n",
    "    \n",
    "    pred = model.predict_proba(X)[:,1]\n",
    "    roc = roc_auc_score(y_true,pred)\n",
    "    yhat = model.predict(X)\n",
    "    lr_f1 = f1_score(y_true, yhat)\n",
    "    return pred, {'roc': roc,'f_1':lr_f1}\n"
   ]
  },
  {
   "cell_type": "code",
   "execution_count": 69,
   "metadata": {},
   "outputs": [],
   "source": [
    "def find_best_params(x, y):\n",
    "    def opt_func(trial: optuna.Trial):\n",
    "        optuna_params = set_optuna_params(trial, model='catboost')\n",
    "        hash_ = get_hash_for_params(optuna_params)\n",
    "        file_prefix = f\"aneurysm_classification_catboost\"\n",
    "        try:\n",
    "            hash_dict = get_hash_dict(file_prefix=file_prefix)\n",
    "            if hash_ in hash_dict:\n",
    "                return hash_dict[hash_]\n",
    "        except Exception as e:\n",
    "            print(e)\n",
    "        print(f\"\\nOptuna parameters: {optuna_params}\\n\")\n",
    "        result = []\n",
    "        kf = KFold(n_splits=5,shuffle=True,random_state=42)\n",
    "        for train_index, test_index in kf.split(x,y):\n",
    "            X_train, X_val = x[train_index], x[test_index]\n",
    "            y_train, y_val = y[train_index], y[test_index]\n",
    "            try:\n",
    "                model = train_optuna(X_train,y_train,optuna_params)\n",
    "                pred, metrics_dict = test_optuna(model, X_val, y_val)\n",
    "            except BaseException as e:\n",
    "                print('exception : ', str(e))\n",
    "                result.append(10e4)\n",
    "                continue\n",
    "            result.append(metrics_dict['f_1'])\n",
    "        output_result = sum(result) / len(result)\n",
    "        write_optuna_hash(hash_, output_result, file_prefix=file_prefix)\n",
    "        return output_result\n",
    "\n",
    "    study = optuna.create_study(direction='maximize',\n",
    "                                sampler=optuna.samplers.TPESampler(multivariate=True,\n",
    "                                                                   seed=45)\n",
    "                                )\n",
    "    optuna.logging.set_verbosity(optuna.logging.INFO)\n",
    "    study.optimize(opt_func, n_trials=100, n_jobs=6,  timeout=2*60*60)\n",
    "    return study.best_params"
   ]
  },
  {
   "cell_type": "code",
   "execution_count": 70,
   "metadata": {},
   "outputs": [],
   "source": [
    "def launch_optuna(x, y, path_to_best_params=\"\"):\n",
    "    X_train, X_test, y_train, y_test = train_test_split(x,y,test_size=0.2,random_state=42,shuffle=True)\n",
    "    if not path_to_best_params:\n",
    "        best_params_optuna = find_best_params(X_train, y_train)\n",
    "    else:\n",
    "        print('\\nGot best params\\n')\n",
    "        best_params_optuna = get_best_params(path_to_best_params)\n",
    "\n",
    "    model = train_optuna(x, y, best_params_optuna)\n",
    "    \n",
    "    predicted, metrics_dict = test_optuna(model, X_test, y_test)\n",
    "    print(f'Test set: {metrics_dict}')\n",
    "\n",
    "    with open(f\"best_params_catboost_.json\", 'w') as fp:\n",
    "        fp.write(f\"{best_params_optuna}\")\n",
    "    return model"
   ]
  },
  {
   "cell_type": "code",
   "execution_count": null,
   "metadata": {},
   "outputs": [
    {
     "name": "stderr",
     "output_type": "stream",
     "text": [
      "/opt/miniconda/lib/python3.6/site-packages/optuna/samplers/_tpe/sampler.py:191: ExperimentalWarning:\n",
      "\n",
      "``multivariate`` option is an experimental feature. The interface can change in the future.\n",
      "\n",
      "[I 2021-06-10 07:30:17,171] A new study created in memory with name: no-name-c3e18f75-019d-4590-918d-9d4fcf6685c1\n"
     ]
    },
    {
     "name": "stdout",
     "output_type": "stream",
     "text": [
      "\n",
      "Optuna parameters: {'n_estimators': 150, 'max_depth': 2, 'colsample_bylevel': 0.5, 'max_bin': 63, 'eta': 0.2, 'subsample': 0.5, 'auto_class_weights': 'Balanced', 'random_state': 45, 'logging_level': 'Silent'}\n",
      "\n",
      "\n",
      "Optuna parameters: {'n_estimators': 500, 'max_depth': 10, 'colsample_bylevel': 0.1, 'max_bin': 511, 'eta': 0.2, 'subsample': 0.7, 'auto_class_weights': 'Balanced', 'random_state': 45, 'logging_level': 'Silent'}\n",
      "Starting fit\n",
      "\n",
      "Optuna parameters: {'n_estimators': 500, 'max_depth': 14, 'colsample_bylevel': 0.7, 'max_bin': 511, 'eta': 0.2, 'subsample': 0.9, 'auto_class_weights': 'Balanced', 'random_state': 45, 'logging_level': 'Silent'}\n",
      "\n",
      "Optuna parameters: {'n_estimators': 450, 'max_depth': 7, 'colsample_bylevel': 0.4, 'max_bin': 511, 'eta': 0.05, 'subsample': 0.3, 'auto_class_weights': 'Balanced', 'random_state': 45, 'logging_level': 'Silent'}\n",
      "\n",
      "\n",
      "\n",
      "\n",
      "Optuna parameters: {'n_estimators': 250, 'max_depth': 2, 'colsample_bylevel': 0.9, 'max_bin': 63, 'eta': 0.01, 'subsample': 0.9, 'auto_class_weights': 'Balanced', 'random_state': 45, 'logging_level': 'Silent'}\n",
      "Starting fit\n",
      "Optuna parameters: {'n_estimators': 100, 'max_depth': 13, 'colsample_bylevel': 0.7, 'max_bin': 255, 'eta': 0.05, 'subsample': 0.4, 'auto_class_weights': 'Balanced', 'random_state': 45, 'logging_level': 'Silent'}\n",
      "Starting fitStarting fit\n",
      "\n",
      "\n",
      "\n",
      "\n",
      "Starting fitStarting fit\n",
      "\n",
      "Starting fit\n",
      "Starting fit\n",
      "Starting fit\n",
      "Starting fit\n",
      "Starting fit\n",
      "Starting fit\n",
      "Starting fit\n",
      "Starting fit\n",
      "Starting fit\n"
     ]
    },
    {
     "name": "stderr",
     "output_type": "stream",
     "text": [
      "[I 2021-06-10 07:30:21,726] Trial 2 finished with value: 0.24444444444444446 and parameters: {'n_estimators': 150, 'max_depth': 2, 'colsample_bylevel': 0.5, 'max_bin': 63, 'eta': 0.2, 'subsample': 0.5}. Best is trial 2 with value: 0.24444444444444446.\n"
     ]
    },
    {
     "name": "stdout",
     "output_type": "stream",
     "text": [
      "\n",
      "Optuna parameters: {'n_estimators': 450, 'max_depth': 6, 'colsample_bylevel': 0.6, 'max_bin': 127, 'eta': 0.2, 'subsample': 0.3, 'auto_class_weights': 'Balanced', 'random_state': 45, 'logging_level': 'Silent'}\n",
      "\n",
      "Starting fit\n"
     ]
    },
    {
     "name": "stderr",
     "output_type": "stream",
     "text": [
      "[I 2021-06-10 07:30:22,796] Trial 3 finished with value: 0.50825644943292 and parameters: {'n_estimators': 250, 'max_depth': 2, 'colsample_bylevel': 0.9, 'max_bin': 63, 'eta': 0.01, 'subsample': 0.9}. Best is trial 3 with value: 0.50825644943292.\n"
     ]
    },
    {
     "name": "stdout",
     "output_type": "stream",
     "text": [
      "\n",
      "Optuna parameters: {'n_estimators': 10, 'max_depth': 4, 'colsample_bylevel': 0.1, 'max_bin': 511, 'eta': 0.3, 'subsample': 1.0, 'auto_class_weights': 'Balanced', 'random_state': 45, 'logging_level': 'Silent'}\n",
      "\n",
      "Starting fit\n",
      "Starting fit\n",
      "Starting fit\n",
      "Starting fit\n",
      "Starting fit\n",
      "Starting fitStarting fit\n",
      "\n"
     ]
    },
    {
     "name": "stderr",
     "output_type": "stream",
     "text": [
      "[I 2021-06-10 07:30:26,462] Trial 7 finished with value: 0.3583394383394384 and parameters: {'n_estimators': 10, 'max_depth': 4, 'colsample_bylevel': 0.1, 'max_bin': 511, 'eta': 0.3, 'subsample': 1.0}. Best is trial 3 with value: 0.50825644943292.\n"
     ]
    },
    {
     "name": "stdout",
     "output_type": "stream",
     "text": [
      "\n",
      "Optuna parameters: {'n_estimators': 150, 'max_depth': 3, 'colsample_bylevel': 0.1, 'max_bin': 127, 'eta': 0.1, 'subsample': 0.5, 'auto_class_weights': 'Balanced', 'random_state': 45, 'logging_level': 'Silent'}\n",
      "\n",
      "Starting fit\n",
      "Starting fit\n",
      "Starting fit\n",
      "Starting fit\n",
      "Starting fit\n",
      "Starting fit\n",
      "Starting fit\n",
      "Starting fit\n",
      "Starting fit\n"
     ]
    },
    {
     "name": "stderr",
     "output_type": "stream",
     "text": [
      "[I 2021-06-10 07:30:31,830] Trial 8 finished with value: 0.2858041958041958 and parameters: {'n_estimators': 150, 'max_depth': 3, 'colsample_bylevel': 0.1, 'max_bin': 127, 'eta': 0.1, 'subsample': 0.5}. Best is trial 3 with value: 0.50825644943292.\n"
     ]
    },
    {
     "name": "stdout",
     "output_type": "stream",
     "text": [
      "\n",
      "Optuna parameters: {'n_estimators': 250, 'max_depth': 12, 'colsample_bylevel': 0.8, 'max_bin': 511, 'eta': 0.05, 'subsample': 0.9, 'auto_class_weights': 'Balanced', 'random_state': 45, 'logging_level': 'Silent'}\n",
      "\n",
      "Starting fit\n",
      "Starting fit\n",
      "Starting fit\n"
     ]
    },
    {
     "name": "stderr",
     "output_type": "stream",
     "text": [
      "[I 2021-06-10 07:30:35,835] Trial 6 finished with value: 0.2774747474747475 and parameters: {'n_estimators': 450, 'max_depth': 6, 'colsample_bylevel': 0.6, 'max_bin': 127, 'eta': 0.2, 'subsample': 0.3}. Best is trial 3 with value: 0.50825644943292.\n"
     ]
    },
    {
     "name": "stdout",
     "output_type": "stream",
     "text": [
      "\n",
      "Optuna parameters: {'n_estimators': 400, 'max_depth': 7, 'colsample_bylevel': 0.5, 'max_bin': 127, 'eta': 0.1, 'subsample': 0.9, 'auto_class_weights': 'Balanced', 'random_state': 45, 'logging_level': 'Silent'}\n",
      "\n",
      "Starting fit\n",
      "Starting fit\n"
     ]
    },
    {
     "name": "stderr",
     "output_type": "stream",
     "text": [
      "[I 2021-06-10 07:30:40,184] Trial 0 finished with value: 0.20555555555555555 and parameters: {'n_estimators': 450, 'max_depth': 7, 'colsample_bylevel': 0.4, 'max_bin': 511, 'eta': 0.05, 'subsample': 0.3}. Best is trial 3 with value: 0.50825644943292.\n"
     ]
    },
    {
     "name": "stdout",
     "output_type": "stream",
     "text": [
      "\n",
      "Optuna parameters: {'n_estimators': 50, 'max_depth': 8, 'colsample_bylevel': 0.8, 'max_bin': 511, 'eta': 0.03, 'subsample': 0.4, 'auto_class_weights': 'Balanced', 'random_state': 45, 'logging_level': 'Silent'}\n",
      "\n",
      "Starting fit\n",
      "Starting fit\n",
      "Starting fit\n",
      "Starting fit\n",
      "Starting fit\n",
      "Starting fit\n",
      "Starting fit\n",
      "Starting fit\n"
     ]
    },
    {
     "name": "stderr",
     "output_type": "stream",
     "text": [
      "[I 2021-06-10 07:30:47,892] Trial 11 finished with value: 0.4091855203619909 and parameters: {'n_estimators': 50, 'max_depth': 8, 'colsample_bylevel': 0.8, 'max_bin': 511, 'eta': 0.03, 'subsample': 0.4}. Best is trial 3 with value: 0.50825644943292.\n"
     ]
    },
    {
     "name": "stdout",
     "output_type": "stream",
     "text": [
      "\n",
      "Optuna parameters: {'n_estimators': 350, 'max_depth': 9, 'colsample_bylevel': 0.8, 'max_bin': 127, 'eta': 0.02, 'subsample': 0.4, 'auto_class_weights': 'Balanced', 'random_state': 45, 'logging_level': 'Silent'}\n",
      "\n",
      "Starting fit\n",
      "Starting fit\n",
      "Starting fit\n",
      "Starting fit\n"
     ]
    },
    {
     "name": "stderr",
     "output_type": "stream",
     "text": [
      "[I 2021-06-10 07:30:58,047] Trial 10 finished with value: 0.20909090909090908 and parameters: {'n_estimators': 400, 'max_depth': 7, 'colsample_bylevel': 0.5, 'max_bin': 127, 'eta': 0.1, 'subsample': 0.9}. Best is trial 3 with value: 0.50825644943292.\n"
     ]
    },
    {
     "name": "stdout",
     "output_type": "stream",
     "text": [
      "\n",
      "Optuna parameters: {'n_estimators': 30, 'max_depth': 13, 'colsample_bylevel': 0.4, 'max_bin': 31, 'eta': 0.15, 'subsample': 0.8, 'auto_class_weights': 'Balanced', 'random_state': 45, 'logging_level': 'Silent'}\n",
      "\n",
      "Starting fit\n",
      "Starting fit\n",
      "Starting fit\n",
      "Starting fit\n",
      "Starting fit\n",
      "Starting fit\n",
      "Starting fit\n",
      "Starting fit\n",
      "Starting fit\n",
      "Starting fit\n",
      "Starting fit\n",
      "Starting fit\n",
      "Starting fit\n"
     ]
    },
    {
     "name": "stderr",
     "output_type": "stream",
     "text": [
      "[I 2021-06-10 07:31:38,217] Trial 1 finished with value: 0.1638095238095238 and parameters: {'n_estimators': 500, 'max_depth': 10, 'colsample_bylevel': 0.1, 'max_bin': 511, 'eta': 0.2, 'subsample': 0.7}. Best is trial 3 with value: 0.50825644943292.\n"
     ]
    },
    {
     "name": "stdout",
     "output_type": "stream",
     "text": [
      "\n",
      "Optuna parameters: {'n_estimators': 500, 'max_depth': 13, 'colsample_bylevel': 0.4, 'max_bin': 127, 'eta': 0.2, 'subsample': 0.6, 'auto_class_weights': 'Balanced', 'random_state': 45, 'logging_level': 'Silent'}\n",
      "\n",
      "Starting fit\n"
     ]
    },
    {
     "name": "stderr",
     "output_type": "stream",
     "text": [
      "[I 2021-06-10 07:31:39,177] Trial 13 finished with value: 0.42144522144522145 and parameters: {'n_estimators': 30, 'max_depth': 13, 'colsample_bylevel': 0.4, 'max_bin': 31, 'eta': 0.15, 'subsample': 0.8}. Best is trial 3 with value: 0.50825644943292.\n"
     ]
    },
    {
     "name": "stdout",
     "output_type": "stream",
     "text": [
      "\n",
      "Optuna parameters: {'n_estimators': 250, 'max_depth': 2, 'colsample_bylevel': 0.9, 'max_bin': 31, 'eta': 0.01, 'subsample': 0.9, 'auto_class_weights': 'Balanced', 'random_state': 45, 'logging_level': 'Silent'}\n",
      "\n",
      "Starting fit\n",
      "Starting fit\n"
     ]
    },
    {
     "name": "stderr",
     "output_type": "stream",
     "text": [
      "[I 2021-06-10 07:31:41,285] Trial 12 finished with value: 0.3383116883116883 and parameters: {'n_estimators': 350, 'max_depth': 9, 'colsample_bylevel': 0.8, 'max_bin': 127, 'eta': 0.02, 'subsample': 0.4}. Best is trial 3 with value: 0.50825644943292.\n"
     ]
    },
    {
     "name": "stdout",
     "output_type": "stream",
     "text": [
      "\n",
      "Optuna parameters: {'n_estimators': 50, 'max_depth': 2, 'colsample_bylevel': 0.9, 'max_bin': 63, 'eta': 0.01, 'subsample': 0.9, 'auto_class_weights': 'Balanced', 'random_state': 45, 'logging_level': 'Silent'}\n",
      "\n",
      "Starting fit\n",
      "Starting fit\n",
      "Starting fit\n",
      "Starting fit\n",
      "Starting fit\n",
      "Starting fit\n"
     ]
    },
    {
     "name": "stderr",
     "output_type": "stream",
     "text": [
      "[I 2021-06-10 07:31:44,484] Trial 2 finished with value: 0.3618181818181818 and parameters: {'n_estimators': 400, 'max_depth': 14, 'colsample_bylevel': 0.9, 'max_bin': 127, 'eta': 0.2, 'subsample': 0.4}. Best is trial 1 with value: 100000.0.\n"
     ]
    },
    {
     "name": "stdout",
     "output_type": "stream",
     "text": [
      "Starting fit\n",
      "Starting fit\n"
     ]
    },
    {
     "name": "stderr",
     "output_type": "stream",
     "text": [
      "[I 2021-06-10 07:31:45,413] Trial 16 finished with value: 0.5503743315508021 and parameters: {'n_estimators': 50, 'max_depth': 2, 'colsample_bylevel': 0.9, 'max_bin': 63, 'eta': 0.01, 'subsample': 0.9}. Best is trial 16 with value: 0.5503743315508021.\n"
     ]
    },
    {
     "name": "stdout",
     "output_type": "stream",
     "text": [
      "\n",
      "Optuna parameters: {'n_estimators': 150, 'max_depth': 6, 'colsample_bylevel': 0.9, 'max_bin': 63, 'eta': 0.01, 'subsample': 0.9, 'auto_class_weights': 'Balanced', 'random_state': 45, 'logging_level': 'Silent'}\n",
      "\n",
      "Starting fit\n"
     ]
    },
    {
     "name": "stderr",
     "output_type": "stream",
     "text": [
      "[I 2021-06-10 07:31:45,533] Trial 15 finished with value: 0.49946524064171127 and parameters: {'n_estimators': 250, 'max_depth': 2, 'colsample_bylevel': 0.9, 'max_bin': 31, 'eta': 0.01, 'subsample': 0.9}. Best is trial 16 with value: 0.5503743315508021.\n"
     ]
    },
    {
     "name": "stdout",
     "output_type": "stream",
     "text": [
      "\n",
      "Optuna parameters: {'n_estimators': 20, 'max_depth': 7, 'colsample_bylevel': 0.9, 'max_bin': 63, 'eta': 0.01, 'subsample': 0.9, 'auto_class_weights': 'Balanced', 'random_state': 45, 'logging_level': 'Silent'}\n",
      "\n",
      "Starting fit\n",
      "Starting fit\n",
      "Starting fit\n",
      "Starting fit\n",
      "Starting fit\n",
      "Starting fit\n",
      "Starting fit\n",
      "Starting fit\n"
     ]
    },
    {
     "name": "stderr",
     "output_type": "stream",
     "text": [
      "[I 2021-06-10 07:31:50,488] Trial 18 finished with value: 0.5265184815184815 and parameters: {'n_estimators': 20, 'max_depth': 7, 'colsample_bylevel': 0.9, 'max_bin': 63, 'eta': 0.01, 'subsample': 0.9}. Best is trial 16 with value: 0.5503743315508021.\n"
     ]
    },
    {
     "name": "stdout",
     "output_type": "stream",
     "text": [
      "\n",
      "Optuna parameters: {'n_estimators': 50, 'max_depth': 7, 'colsample_bylevel': 0.9, 'max_bin': 63, 'eta': 0.01, 'subsample': 0.5, 'auto_class_weights': 'Balanced', 'random_state': 45, 'logging_level': 'Silent'}\n",
      "\n",
      "Starting fit\n",
      "Starting fit\n",
      "Starting fit\n",
      "Starting fit\n",
      "Starting fit\n"
     ]
    },
    {
     "name": "stderr",
     "output_type": "stream",
     "text": [
      "[I 2021-06-10 07:31:53,253] Trial 17 finished with value: 0.4864382676147382 and parameters: {'n_estimators': 150, 'max_depth': 6, 'colsample_bylevel': 0.9, 'max_bin': 63, 'eta': 0.01, 'subsample': 0.9}. Best is trial 16 with value: 0.5503743315508021.\n"
     ]
    },
    {
     "name": "stdout",
     "output_type": "stream",
     "text": [
      "\n",
      "Optuna parameters: {'n_estimators': 20, 'max_depth': 11, 'colsample_bylevel': 0.7, 'max_bin': 63, 'eta': 0.01, 'subsample': 1.0, 'auto_class_weights': 'Balanced', 'random_state': 45, 'logging_level': 'Silent'}\n",
      "\n",
      "Starting fit\n",
      "Starting fit\n",
      "Starting fit\n",
      "Starting fit\n"
     ]
    },
    {
     "name": "stderr",
     "output_type": "stream",
     "text": [
      "[I 2021-06-10 07:31:56,227] Trial 19 finished with value: 0.49060939060939057 and parameters: {'n_estimators': 50, 'max_depth': 7, 'colsample_bylevel': 0.9, 'max_bin': 63, 'eta': 0.01, 'subsample': 0.5}. Best is trial 16 with value: 0.5503743315508021.\n"
     ]
    },
    {
     "name": "stdout",
     "output_type": "stream",
     "text": [
      "\n",
      "Optuna parameters: {'n_estimators': 50, 'max_depth': 3, 'colsample_bylevel': 0.1, 'max_bin': 63, 'eta': 0.2, 'subsample': 0.9, 'auto_class_weights': 'Balanced', 'random_state': 45, 'logging_level': 'Silent'}\n",
      "\n",
      "Starting fit\n",
      "Starting fit\n",
      "Starting fit\n",
      "Starting fit\n",
      "Starting fit\n",
      "Starting fit\n",
      "Starting fit\n"
     ]
    },
    {
     "name": "stderr",
     "output_type": "stream",
     "text": [
      "[I 2021-06-10 07:31:59,041] Trial 21 finished with value: 0.24230769230769228 and parameters: {'n_estimators': 50, 'max_depth': 3, 'colsample_bylevel': 0.1, 'max_bin': 63, 'eta': 0.2, 'subsample': 0.9}. Best is trial 16 with value: 0.5503743315508021.\n"
     ]
    },
    {
     "name": "stdout",
     "output_type": "stream",
     "text": [
      "\n",
      "Optuna parameters: {'n_estimators': 20, 'max_depth': 6, 'colsample_bylevel': 0.8, 'max_bin': 63, 'eta': 0.01, 'subsample': 0.7, 'auto_class_weights': 'Balanced', 'random_state': 45, 'logging_level': 'Silent'}\n",
      "\n",
      "Starting fit\n",
      "Starting fit\n",
      "Starting fit\n",
      "Starting fit\n",
      "Starting fit\n",
      "Starting fit\n",
      "Starting fit\n"
     ]
    },
    {
     "name": "stderr",
     "output_type": "stream",
     "text": [
      "[I 2021-06-10 07:32:02,571] Trial 22 finished with value: 0.5169677381442087 and parameters: {'n_estimators': 20, 'max_depth': 6, 'colsample_bylevel': 0.8, 'max_bin': 63, 'eta': 0.01, 'subsample': 0.7}. Best is trial 16 with value: 0.5503743315508021.\n"
     ]
    },
    {
     "name": "stdout",
     "output_type": "stream",
     "text": [
      "\n",
      "Optuna parameters: {'n_estimators': 400, 'max_depth': 5, 'colsample_bylevel': 1.0, 'max_bin': 63, 'eta': 0.05, 'subsample': 0.4, 'auto_class_weights': 'Balanced', 'random_state': 45, 'logging_level': 'Silent'}\n",
      "\n",
      "Starting fit\n"
     ]
    },
    {
     "name": "stderr",
     "output_type": "stream",
     "text": [
      "[I 2021-06-10 07:32:03,746] Trial 20 finished with value: 0.4539238539238539 and parameters: {'n_estimators': 20, 'max_depth': 11, 'colsample_bylevel': 0.7, 'max_bin': 63, 'eta': 0.01, 'subsample': 1.0}. Best is trial 16 with value: 0.5503743315508021.\n"
     ]
    },
    {
     "name": "stdout",
     "output_type": "stream",
     "text": [
      "Starting fit\n",
      "\n",
      "Optuna parameters: {'n_estimators': 300, 'max_depth': 10, 'colsample_bylevel': 0.3, 'max_bin': 255, 'eta': 0.01, 'subsample': 0.9, 'auto_class_weights': 'Balanced', 'random_state': 45, 'logging_level': 'Silent'}\n",
      "\n",
      "Starting fit\n",
      "Starting fit\n",
      "Starting fit\n",
      "Starting fit\n"
     ]
    },
    {
     "name": "stderr",
     "output_type": "stream",
     "text": [
      "[I 2021-06-10 07:32:11,873] Trial 23 finished with value: 0.17444444444444446 and parameters: {'n_estimators': 400, 'max_depth': 5, 'colsample_bylevel': 1.0, 'max_bin': 63, 'eta': 0.05, 'subsample': 0.4}. Best is trial 16 with value: 0.5503743315508021.\n"
     ]
    },
    {
     "name": "stdout",
     "output_type": "stream",
     "text": [
      "\n",
      "Optuna parameters: {'n_estimators': 20, 'max_depth': 8, 'colsample_bylevel': 0.9, 'max_bin': 511, 'eta': 0.1, 'subsample': 0.9, 'auto_class_weights': 'Balanced', 'random_state': 45, 'logging_level': 'Silent'}\n",
      "\n",
      "Starting fit\n",
      "Starting fit\n",
      "Starting fit\n",
      "Starting fit\n",
      "Starting fit\n",
      "Starting fit\n"
     ]
    },
    {
     "name": "stderr",
     "output_type": "stream",
     "text": [
      "[I 2021-06-10 07:32:16,870] Trial 25 finished with value: 0.4135642135642136 and parameters: {'n_estimators': 20, 'max_depth': 8, 'colsample_bylevel': 0.9, 'max_bin': 511, 'eta': 0.1, 'subsample': 0.9}. Best is trial 16 with value: 0.5503743315508021.\n"
     ]
    },
    {
     "name": "stdout",
     "output_type": "stream",
     "text": [
      "\n",
      "Optuna parameters: {'n_estimators': 20, 'max_depth': 4, 'colsample_bylevel': 0.8, 'max_bin': 63, 'eta': 0.03, 'subsample': 0.6, 'auto_class_weights': 'Balanced', 'random_state': 45, 'logging_level': 'Silent'}\n",
      "\n",
      "Starting fit\n",
      "Starting fit\n",
      "Starting fit\n",
      "Starting fit\n",
      "Starting fit\n"
     ]
    },
    {
     "name": "stderr",
     "output_type": "stream",
     "text": [
      "[I 2021-06-10 07:32:19,573] Trial 26 finished with value: 0.50825644943292 and parameters: {'n_estimators': 20, 'max_depth': 4, 'colsample_bylevel': 0.8, 'max_bin': 63, 'eta': 0.03, 'subsample': 0.6}. Best is trial 16 with value: 0.5503743315508021.\n"
     ]
    },
    {
     "name": "stdout",
     "output_type": "stream",
     "text": [
      "\n",
      "Optuna parameters: {'n_estimators': 50, 'max_depth': 2, 'colsample_bylevel': 0.9, 'max_bin': 255, 'eta': 0.15, 'subsample': 0.9, 'auto_class_weights': 'Balanced', 'random_state': 45, 'logging_level': 'Silent'}\n",
      "\n",
      "Starting fit\n",
      "Starting fit\n",
      "Starting fit\n",
      "Starting fit\n",
      "Starting fit\n",
      "Starting fit\n"
     ]
    },
    {
     "name": "stderr",
     "output_type": "stream",
     "text": [
      "[I 2021-06-10 07:32:23,368] Trial 27 finished with value: 0.4866946778711484 and parameters: {'n_estimators': 50, 'max_depth': 2, 'colsample_bylevel': 0.9, 'max_bin': 255, 'eta': 0.15, 'subsample': 0.9}. Best is trial 16 with value: 0.5503743315508021.\n"
     ]
    },
    {
     "name": "stdout",
     "output_type": "stream",
     "text": [
      "\n",
      "Optuna parameters: {'n_estimators': 10, 'max_depth': 5, 'colsample_bylevel': 0.8, 'max_bin': 63, 'eta': 0.01, 'subsample': 0.7, 'auto_class_weights': 'Balanced', 'random_state': 45, 'logging_level': 'Silent'}\n",
      "\n",
      "Starting fit\n",
      "Starting fit\n",
      "Starting fit\n",
      "Starting fit\n",
      "Starting fit\n"
     ]
    },
    {
     "name": "stderr",
     "output_type": "stream",
     "text": [
      "[I 2021-06-10 07:32:26,510] Trial 28 finished with value: 0.5160886172650877 and parameters: {'n_estimators': 10, 'max_depth': 5, 'colsample_bylevel': 0.8, 'max_bin': 63, 'eta': 0.01, 'subsample': 0.7}. Best is trial 16 with value: 0.5503743315508021.\n"
     ]
    },
    {
     "name": "stdout",
     "output_type": "stream",
     "text": [
      "\n",
      "Optuna parameters: {'n_estimators': 450, 'max_depth': 9, 'colsample_bylevel': 0.8, 'max_bin': 63, 'eta': 0.3, 'subsample': 0.9, 'auto_class_weights': 'Balanced', 'random_state': 45, 'logging_level': 'Silent'}\n",
      "\n",
      "Starting fit\n",
      "Starting fit\n",
      "Starting fit\n",
      "Starting fit\n",
      "Starting fit\n",
      "Starting fit\n"
     ]
    },
    {
     "name": "stderr",
     "output_type": "stream",
     "text": [
      "[I 2021-06-10 07:32:50,370] Trial 4 finished with value: 0.3827838827838828 and parameters: {'n_estimators': 100, 'max_depth': 13, 'colsample_bylevel': 0.7, 'max_bin': 255, 'eta': 0.05, 'subsample': 0.4}. Best is trial 16 with value: 0.5503743315508021.\n"
     ]
    },
    {
     "name": "stdout",
     "output_type": "stream",
     "text": [
      "\n",
      "Optuna parameters: {'n_estimators': 20, 'max_depth': 7, 'colsample_bylevel': 0.4, 'max_bin': 63, 'eta': 0.01, 'subsample': 0.8, 'auto_class_weights': 'Balanced', 'random_state': 45, 'logging_level': 'Silent'}\n",
      "\n",
      "Starting fitStarting fit\n",
      "\n",
      "Starting fit\n",
      "Starting fit\n",
      "Starting fit\n",
      "Starting fit\n"
     ]
    },
    {
     "name": "stderr",
     "output_type": "stream",
     "text": [
      "[I 2021-06-10 07:32:54,321] Trial 30 finished with value: 0.4903743315508021 and parameters: {'n_estimators': 20, 'max_depth': 7, 'colsample_bylevel': 0.4, 'max_bin': 63, 'eta': 0.01, 'subsample': 0.8}. Best is trial 16 with value: 0.5503743315508021.\n"
     ]
    },
    {
     "name": "stdout",
     "output_type": "stream",
     "text": [
      "\n",
      "Optuna parameters: {'n_estimators': 20, 'max_depth': 12, 'colsample_bylevel': 0.8, 'max_bin': 255, 'eta': 0.01, 'subsample': 0.7, 'auto_class_weights': 'Balanced', 'random_state': 45, 'logging_level': 'Silent'}\n",
      "\n",
      "Starting fit\n",
      "Starting fit\n",
      "Starting fit\n",
      "Starting fit\n"
     ]
    },
    {
     "name": "stderr",
     "output_type": "stream",
     "text": [
      "[I 2021-06-10 07:33:02,358] Trial 24 finished with value: 0.31212121212121213 and parameters: {'n_estimators': 300, 'max_depth': 10, 'colsample_bylevel': 0.3, 'max_bin': 255, 'eta': 0.01, 'subsample': 0.9}. Best is trial 16 with value: 0.5503743315508021.\n"
     ]
    },
    {
     "name": "stdout",
     "output_type": "stream",
     "text": [
      "\n",
      "Optuna parameters: {'n_estimators': 200, 'max_depth': 7, 'colsample_bylevel': 0.6, 'max_bin': 63, 'eta': 0.1, 'subsample': 0.7, 'auto_class_weights': 'Balanced', 'random_state': 45, 'logging_level': 'Silent'}\n",
      "\n",
      "Starting fit\n",
      "Starting fit\n",
      "Starting fit\n",
      "Starting fitStarting fit\n",
      "\n",
      "Starting fit\n"
     ]
    },
    {
     "name": "stderr",
     "output_type": "stream",
     "text": [
      "[I 2021-06-10 07:33:10,079] Trial 31 finished with value: 0.3855921855921856 and parameters: {'n_estimators': 20, 'max_depth': 12, 'colsample_bylevel': 0.8, 'max_bin': 255, 'eta': 0.01, 'subsample': 0.7}. Best is trial 16 with value: 0.5503743315508021.\n"
     ]
    },
    {
     "name": "stdout",
     "output_type": "stream",
     "text": [
      "\n",
      "Optuna parameters: {'n_estimators': 20, 'max_depth': 7, 'colsample_bylevel': 0.2, 'max_bin': 31, 'eta': 0.01, 'subsample': 0.4, 'auto_class_weights': 'Balanced', 'random_state': 45, 'logging_level': 'Silent'}\n",
      "\n",
      "Starting fit\n",
      "Starting fit\n",
      "Starting fit\n",
      "Starting fit\n",
      "Starting fit\n",
      "Starting fit\n",
      "Starting fit\n"
     ]
    },
    {
     "name": "stderr",
     "output_type": "stream",
     "text": [
      "[I 2021-06-10 07:33:12,884] Trial 32 finished with value: 0.07636363636363637 and parameters: {'n_estimators': 200, 'max_depth': 7, 'colsample_bylevel': 0.6, 'max_bin': 63, 'eta': 0.1, 'subsample': 0.7}. Best is trial 16 with value: 0.5503743315508021.\n"
     ]
    },
    {
     "name": "stdout",
     "output_type": "stream",
     "text": [
      "\n",
      "Optuna parameters: {'n_estimators': 300, 'max_depth': 6, 'colsample_bylevel': 0.7, 'max_bin': 127, 'eta': 0.01, 'subsample': 0.7, 'auto_class_weights': 'Balanced', 'random_state': 45, 'logging_level': 'Silent'}\n",
      "\n",
      "Starting fit\n",
      "Starting fit\n"
     ]
    },
    {
     "name": "stderr",
     "output_type": "stream",
     "text": [
      "[I 2021-06-10 07:33:14,285] Trial 33 finished with value: 0.5043137254901959 and parameters: {'n_estimators': 20, 'max_depth': 7, 'colsample_bylevel': 0.2, 'max_bin': 31, 'eta': 0.01, 'subsample': 0.4}. Best is trial 16 with value: 0.5503743315508021.\n"
     ]
    },
    {
     "name": "stdout",
     "output_type": "stream",
     "text": [
      "\n",
      "Optuna parameters: {'n_estimators': 20, 'max_depth': 10, 'colsample_bylevel': 0.9, 'max_bin': 63, 'eta': 0.02, 'subsample': 0.3, 'auto_class_weights': 'Balanced', 'random_state': 45, 'logging_level': 'Silent'}\n",
      "\n",
      "Starting fit\n",
      "Starting fit\n",
      "Starting fit\n",
      "Starting fit\n",
      "Starting fit\n",
      "Starting fit\n",
      "Starting fit\n",
      "Starting fit\n",
      "Starting fit\n"
     ]
    },
    {
     "name": "stderr",
     "output_type": "stream",
     "text": [
      "[I 2021-06-10 07:33:21,826] Trial 35 finished with value: 0.5493486905251611 and parameters: {'n_estimators': 20, 'max_depth': 10, 'colsample_bylevel': 0.9, 'max_bin': 63, 'eta': 0.02, 'subsample': 0.3}. Best is trial 16 with value: 0.5503743315508021.\n",
      "[I 2021-06-10 07:33:21,845] Trial 29 finished with value: 0.2349206349206349 and parameters: {'n_estimators': 450, 'max_depth': 9, 'colsample_bylevel': 0.8, 'max_bin': 63, 'eta': 0.3, 'subsample': 0.9}. Best is trial 16 with value: 0.5503743315508021.\n"
     ]
    },
    {
     "name": "stdout",
     "output_type": "stream",
     "text": [
      "\n",
      "Optuna parameters: {'n_estimators': 400, 'max_depth': 13, 'colsample_bylevel': 0.1, 'max_bin': 63, 'eta': 0.02, 'subsample': 0.3, 'auto_class_weights': 'Balanced', 'random_state': 45, 'logging_level': 'Silent'}\n",
      "\n",
      "\n",
      "Optuna parameters: {'n_estimators': 450, 'max_depth': 10, 'colsample_bylevel': 1.0, 'max_bin': 63, 'eta': 0.02, 'subsample': 0.3, 'auto_class_weights': 'Balanced', 'random_state': 45, 'logging_level': 'Silent'}\n",
      "Starting fit\n",
      "\n",
      "Starting fit\n"
     ]
    },
    {
     "name": "stderr",
     "output_type": "stream",
     "text": [
      "[I 2021-06-10 07:33:23,294] Trial 34 finished with value: 0.3801587301587302 and parameters: {'n_estimators': 300, 'max_depth': 6, 'colsample_bylevel': 0.7, 'max_bin': 127, 'eta': 0.01, 'subsample': 0.7}. Best is trial 16 with value: 0.5503743315508021.\n"
     ]
    },
    {
     "name": "stdout",
     "output_type": "stream",
     "text": [
      "\n",
      "Optuna parameters: {'n_estimators': 200, 'max_depth': 15, 'colsample_bylevel': 0.9, 'max_bin': 63, 'eta': 0.02, 'subsample': 0.3, 'auto_class_weights': 'Balanced', 'random_state': 45, 'logging_level': 'Silent'}\n",
      "\n",
      "Starting fit\n",
      "Starting fit\n"
     ]
    },
    {
     "name": "stderr",
     "output_type": "stream",
     "text": [
      "[I 2021-06-10 07:33:48,587] Trial 9 finished with value: 0.3014374514374515 and parameters: {'n_estimators': 250, 'max_depth': 12, 'colsample_bylevel': 0.8, 'max_bin': 511, 'eta': 0.05, 'subsample': 0.9}. Best is trial 16 with value: 0.5503743315508021.\n"
     ]
    },
    {
     "name": "stdout",
     "output_type": "stream",
     "text": [
      "\n",
      "Optuna parameters: {'n_estimators': 100, 'max_depth': 11, 'colsample_bylevel': 0.9, 'max_bin': 63, 'eta': 0.3, 'subsample': 0.3, 'auto_class_weights': 'Balanced', 'random_state': 45, 'logging_level': 'Silent'}\n",
      "\n",
      "Starting fit\n",
      "Starting fit\n",
      "Starting fit\n",
      "Starting fit\n",
      "Starting fit\n",
      "Starting fit\n",
      "Starting fit\n",
      "Starting fit\n",
      "Starting fit\n"
     ]
    },
    {
     "name": "stderr",
     "output_type": "stream",
     "text": [
      "[I 2021-06-10 07:34:27,218] Trial 39 finished with value: 0.34575757575757576 and parameters: {'n_estimators': 100, 'max_depth': 11, 'colsample_bylevel': 0.9, 'max_bin': 63, 'eta': 0.3, 'subsample': 0.3}. Best is trial 16 with value: 0.5503743315508021.\n"
     ]
    },
    {
     "name": "stdout",
     "output_type": "stream",
     "text": [
      "\n",
      "Optuna parameters: {'n_estimators': 500, 'max_depth': 11, 'colsample_bylevel': 0.2, 'max_bin': 63, 'eta': 0.02, 'subsample': 0.3, 'auto_class_weights': 'Balanced', 'random_state': 45, 'logging_level': 'Silent'}\n",
      "\n",
      "Starting fit\n",
      "Starting fit\n"
     ]
    },
    {
     "name": "stderr",
     "output_type": "stream",
     "text": [
      "[I 2021-06-10 07:34:53,340] Trial 37 finished with value: 0.31833943833943834 and parameters: {'n_estimators': 450, 'max_depth': 10, 'colsample_bylevel': 1.0, 'max_bin': 63, 'eta': 0.02, 'subsample': 0.3}. Best is trial 16 with value: 0.5503743315508021.\n"
     ]
    },
    {
     "name": "stdout",
     "output_type": "stream",
     "text": [
      "\n",
      "Optuna parameters: {'n_estimators': 50, 'max_depth': 2, 'colsample_bylevel': 0.5, 'max_bin': 63, 'eta': 0.01, 'subsample': 0.9, 'auto_class_weights': 'Balanced', 'random_state': 45, 'logging_level': 'Silent'}\n",
      "\n",
      "Starting fit\n",
      "Starting fit\n",
      "Starting fit\n",
      "Starting fit\n",
      "Starting fit\n",
      "Starting fit\n"
     ]
    },
    {
     "name": "stderr",
     "output_type": "stream",
     "text": [
      "[I 2021-06-10 07:34:57,174] Trial 41 finished with value: 0.49977160094807144 and parameters: {'n_estimators': 50, 'max_depth': 2, 'colsample_bylevel': 0.5, 'max_bin': 63, 'eta': 0.01, 'subsample': 0.9}. Best is trial 16 with value: 0.5503743315508021.\n"
     ]
    },
    {
     "name": "stdout",
     "output_type": "stream",
     "text": [
      "\n",
      "Optuna parameters: {'n_estimators': 20, 'max_depth': 11, 'colsample_bylevel': 0.9, 'max_bin': 63, 'eta': 0.02, 'subsample': 1.0, 'auto_class_weights': 'Balanced', 'random_state': 45, 'logging_level': 'Silent'}\n",
      "\n",
      "Starting fit\n",
      "Starting fit\n",
      "Starting fit\n",
      "Starting fit\n",
      "Starting fit\n"
     ]
    },
    {
     "name": "stderr",
     "output_type": "stream",
     "text": [
      "[I 2021-06-10 07:35:06,667] Trial 42 finished with value: 0.40839630957278017 and parameters: {'n_estimators': 20, 'max_depth': 11, 'colsample_bylevel': 0.9, 'max_bin': 63, 'eta': 0.02, 'subsample': 1.0}. Best is trial 16 with value: 0.5503743315508021.\n"
     ]
    },
    {
     "name": "stdout",
     "output_type": "stream",
     "text": [
      "\n",
      "Optuna parameters: {'n_estimators': 30, 'max_depth': 9, 'colsample_bylevel': 0.1, 'max_bin': 63, 'eta': 0.02, 'subsample': 0.6, 'auto_class_weights': 'Balanced', 'random_state': 45, 'logging_level': 'Silent'}\n",
      "\n",
      "Starting fit\n",
      "Starting fit\n",
      "Starting fit\n",
      "Starting fit\n",
      "Starting fit\n"
     ]
    },
    {
     "name": "stderr",
     "output_type": "stream",
     "text": [
      "[I 2021-06-10 07:35:11,125] Trial 43 finished with value: 0.48180708180708187 and parameters: {'n_estimators': 30, 'max_depth': 9, 'colsample_bylevel': 0.1, 'max_bin': 63, 'eta': 0.02, 'subsample': 0.6}. Best is trial 16 with value: 0.5503743315508021.\n"
     ]
    },
    {
     "name": "stdout",
     "output_type": "stream",
     "text": [
      "\n",
      "Optuna parameters: {'n_estimators': 500, 'max_depth': 5, 'colsample_bylevel': 0.9, 'max_bin': 63, 'eta': 0.05, 'subsample': 0.3, 'auto_class_weights': 'Balanced', 'random_state': 45, 'logging_level': 'Silent'}\n",
      "\n",
      "Starting fit\n",
      "Starting fit\n",
      "Starting fit\n",
      "Starting fit\n",
      "Starting fit\n",
      "Starting fit\n",
      "Starting fit\n",
      "Starting fit\n"
     ]
    },
    {
     "name": "stderr",
     "output_type": "stream",
     "text": [
      "[I 2021-06-10 07:35:23,861] Trial 44 finished with value: 0.3207070707070707 and parameters: {'n_estimators': 500, 'max_depth': 5, 'colsample_bylevel': 0.9, 'max_bin': 63, 'eta': 0.05, 'subsample': 0.3}. Best is trial 16 with value: 0.5503743315508021.\n"
     ]
    },
    {
     "name": "stdout",
     "output_type": "stream",
     "text": [
      "\n",
      "Optuna parameters: {'n_estimators': 50, 'max_depth': 12, 'colsample_bylevel': 0.9, 'max_bin': 127, 'eta': 0.02, 'subsample': 0.3, 'auto_class_weights': 'Balanced', 'random_state': 45, 'logging_level': 'Silent'}\n",
      "\n",
      "Starting fit\n",
      "Starting fit\n",
      "Starting fit\n",
      "Starting fit\n",
      "Starting fit\n",
      "Starting fit\n",
      "Starting fit\n"
     ]
    },
    {
     "name": "stderr",
     "output_type": "stream",
     "text": [
      "[I 2021-06-10 07:36:01,704] Trial 45 finished with value: 0.5155866355866356 and parameters: {'n_estimators': 50, 'max_depth': 12, 'colsample_bylevel': 0.9, 'max_bin': 127, 'eta': 0.02, 'subsample': 0.3}. Best is trial 16 with value: 0.5503743315508021.\n"
     ]
    },
    {
     "name": "stdout",
     "output_type": "stream",
     "text": [
      "\n",
      "Optuna parameters: {'n_estimators': 20, 'max_depth': 9, 'colsample_bylevel': 0.8, 'max_bin': 63, 'eta': 0.02, 'subsample': 0.3, 'auto_class_weights': 'Balanced', 'random_state': 45, 'logging_level': 'Silent'}\n",
      "\n",
      "Starting fit\n",
      "Starting fit\n",
      "Starting fit\n",
      "Starting fit\n",
      "Starting fit\n",
      "Starting fit\n"
     ]
    },
    {
     "name": "stderr",
     "output_type": "stream",
     "text": [
      "[I 2021-06-10 07:36:07,005] Trial 46 finished with value: 0.4443137254901961 and parameters: {'n_estimators': 20, 'max_depth': 9, 'colsample_bylevel': 0.8, 'max_bin': 63, 'eta': 0.02, 'subsample': 0.3}. Best is trial 16 with value: 0.5503743315508021.\n"
     ]
    },
    {
     "name": "stdout",
     "output_type": "stream",
     "text": [
      "\n",
      "Optuna parameters: {'n_estimators': 20, 'max_depth': 4, 'colsample_bylevel': 0.8, 'max_bin': 63, 'eta': 0.01, 'subsample': 0.7, 'auto_class_weights': 'Balanced', 'random_state': 45, 'logging_level': 'Silent'}\n",
      "\n",
      "Starting fit\n",
      "Starting fit\n",
      "Starting fit\n",
      "Starting fit\n",
      "Starting fit\n"
     ]
    },
    {
     "name": "stderr",
     "output_type": "stream",
     "text": [
      "[I 2021-06-10 07:36:09,863] Trial 47 finished with value: 0.5530116941881646 and parameters: {'n_estimators': 20, 'max_depth': 4, 'colsample_bylevel': 0.8, 'max_bin': 63, 'eta': 0.01, 'subsample': 0.7}. Best is trial 47 with value: 0.5530116941881646.\n"
     ]
    },
    {
     "name": "stdout",
     "output_type": "stream",
     "text": [
      "\n",
      "Optuna parameters: {'n_estimators': 500, 'max_depth': 2, 'colsample_bylevel': 0.2, 'max_bin': 63, 'eta': 0.01, 'subsample': 0.7, 'auto_class_weights': 'Balanced', 'random_state': 45, 'logging_level': 'Silent'}\n",
      "\n",
      "Starting fit\n",
      "Starting fit\n",
      "Starting fit\n",
      "Starting fit\n",
      "Starting fit\n"
     ]
    },
    {
     "name": "stderr",
     "output_type": "stream",
     "text": [
      "[I 2021-06-10 07:36:16,181] Trial 48 finished with value: 0.45575757575757575 and parameters: {'n_estimators': 500, 'max_depth': 2, 'colsample_bylevel': 0.2, 'max_bin': 63, 'eta': 0.01, 'subsample': 0.7}. Best is trial 47 with value: 0.5530116941881646.\n"
     ]
    },
    {
     "name": "stdout",
     "output_type": "stream",
     "text": [
      "\n",
      "Optuna parameters: {'n_estimators': 20, 'max_depth': 5, 'colsample_bylevel': 0.8, 'max_bin': 31, 'eta': 0.02, 'subsample': 0.7, 'auto_class_weights': 'Balanced', 'random_state': 45, 'logging_level': 'Silent'}\n",
      "\n",
      "Starting fit\n",
      "Starting fit\n",
      "Starting fit\n",
      "Starting fit\n",
      "Starting fit\n",
      "Starting fit\n",
      "Starting fit\n"
     ]
    },
    {
     "name": "stderr",
     "output_type": "stream",
     "text": [
      "[I 2021-06-10 07:36:19,712] Trial 49 finished with value: 0.4918461930226635 and parameters: {'n_estimators': 20, 'max_depth': 5, 'colsample_bylevel': 0.8, 'max_bin': 31, 'eta': 0.02, 'subsample': 0.7}. Best is trial 47 with value: 0.5530116941881646.\n"
     ]
    },
    {
     "name": "stdout",
     "output_type": "stream",
     "text": [
      "\n",
      "Optuna parameters: {'n_estimators': 20, 'max_depth': 5, 'colsample_bylevel': 0.5, 'max_bin': 63, 'eta': 0.2, 'subsample': 0.7, 'auto_class_weights': 'Balanced', 'random_state': 45, 'logging_level': 'Silent'}\n",
      "\n",
      "Starting fit\n",
      "Starting fit\n",
      "Starting fit\n",
      "Starting fit\n",
      "Starting fit\n"
     ]
    },
    {
     "name": "stderr",
     "output_type": "stream",
     "text": [
      "[I 2021-06-10 07:36:23,009] Trial 50 finished with value: 0.3366666666666666 and parameters: {'n_estimators': 20, 'max_depth': 5, 'colsample_bylevel': 0.5, 'max_bin': 63, 'eta': 0.2, 'subsample': 0.7}. Best is trial 47 with value: 0.5530116941881646.\n"
     ]
    },
    {
     "name": "stdout",
     "output_type": "stream",
     "text": [
      "Starting fit\n"
     ]
    },
    {
     "name": "stderr",
     "output_type": "stream",
     "text": [
      "[I 2021-06-10 07:36:23,109] Trial 51 finished with value: 0.5530116941881646 and parameters: {'n_estimators': 20, 'max_depth': 4, 'colsample_bylevel': 0.8, 'max_bin': 63, 'eta': 0.01, 'subsample': 0.7}. Best is trial 47 with value: 0.5530116941881646.\n"
     ]
    },
    {
     "name": "stdout",
     "output_type": "stream",
     "text": [
      "\n",
      "Optuna parameters: {'n_estimators': 20, 'max_depth': 9, 'colsample_bylevel': 0.9, 'max_bin': 255, 'eta': 0.02, 'subsample': 0.3, 'auto_class_weights': 'Balanced', 'random_state': 45, 'logging_level': 'Silent'}\n",
      "\n",
      "Starting fit\n",
      "Starting fit\n",
      "Starting fit\n",
      "Starting fit\n",
      "Starting fit\n"
     ]
    },
    {
     "name": "stderr",
     "output_type": "stream",
     "text": [
      "[I 2021-06-10 07:36:28,333] Trial 52 finished with value: 0.35809523809523813 and parameters: {'n_estimators': 20, 'max_depth': 9, 'colsample_bylevel': 0.9, 'max_bin': 255, 'eta': 0.02, 'subsample': 0.3}. Best is trial 47 with value: 0.5530116941881646.\n"
     ]
    },
    {
     "name": "stdout",
     "output_type": "stream",
     "text": [
      "\n",
      "Optuna parameters: {'n_estimators': 30, 'max_depth': 2, 'colsample_bylevel': 0.8, 'max_bin': 127, 'eta': 0.01, 'subsample': 0.9, 'auto_class_weights': 'Balanced', 'random_state': 45, 'logging_level': 'Silent'}\n",
      "\n",
      "Starting fit\n",
      "Starting fit\n",
      "Starting fit\n",
      "Starting fit\n",
      "Starting fit\n"
     ]
    },
    {
     "name": "stderr",
     "output_type": "stream",
     "text": [
      "[I 2021-06-10 07:36:31,249] Trial 53 finished with value: 0.4970409982174687 and parameters: {'n_estimators': 30, 'max_depth': 2, 'colsample_bylevel': 0.8, 'max_bin': 127, 'eta': 0.01, 'subsample': 0.9}. Best is trial 47 with value: 0.5530116941881646.\n"
     ]
    },
    {
     "name": "stdout",
     "output_type": "stream",
     "text": [
      "\n",
      "Optuna parameters: {'n_estimators': 20, 'max_depth': 2, 'colsample_bylevel': 0.7, 'max_bin': 255, 'eta': 0.01, 'subsample': 0.3, 'auto_class_weights': 'Balanced', 'random_state': 45, 'logging_level': 'Silent'}\n",
      "\n",
      "Starting fit\n",
      "Starting fit\n",
      "Starting fit\n",
      "Starting fit\n",
      "Starting fit\n"
     ]
    },
    {
     "name": "stderr",
     "output_type": "stream",
     "text": [
      "[I 2021-06-10 07:36:33,709] Trial 54 finished with value: 0.48479076479076477 and parameters: {'n_estimators': 20, 'max_depth': 2, 'colsample_bylevel': 0.7, 'max_bin': 255, 'eta': 0.01, 'subsample': 0.3}. Best is trial 47 with value: 0.5530116941881646.\n"
     ]
    },
    {
     "name": "stdout",
     "output_type": "stream",
     "text": [
      "\n",
      "Optuna parameters: {'n_estimators': 20, 'max_depth': 6, 'colsample_bylevel': 0.9, 'max_bin': 63, 'eta': 0.02, 'subsample': 0.9, 'auto_class_weights': 'Balanced', 'random_state': 45, 'logging_level': 'Silent'}\n",
      "\n",
      "Starting fit\n",
      "Starting fit\n",
      "Starting fit\n",
      "Starting fit\n",
      "Starting fit\n"
     ]
    },
    {
     "name": "stderr",
     "output_type": "stream",
     "text": [
      "[I 2021-06-10 07:36:37,259] Trial 55 finished with value: 0.4791655403420109 and parameters: {'n_estimators': 20, 'max_depth': 6, 'colsample_bylevel': 0.9, 'max_bin': 63, 'eta': 0.02, 'subsample': 0.9}. Best is trial 47 with value: 0.5530116941881646.\n"
     ]
    },
    {
     "name": "stdout",
     "output_type": "stream",
     "text": [
      "\n",
      "Optuna parameters: {'n_estimators': 20, 'max_depth': 5, 'colsample_bylevel': 0.8, 'max_bin': 63, 'eta': 0.01, 'subsample': 1.0, 'auto_class_weights': 'Balanced', 'random_state': 45, 'logging_level': 'Silent'}\n",
      "\n",
      "Starting fit\n",
      "Starting fit\n",
      "Starting fit\n",
      "Starting fit\n",
      "Starting fit\n"
     ]
    },
    {
     "name": "stderr",
     "output_type": "stream",
     "text": [
      "[I 2021-06-10 07:36:41,007] Trial 56 finished with value: 0.5222424634189339 and parameters: {'n_estimators': 20, 'max_depth': 5, 'colsample_bylevel': 0.8, 'max_bin': 63, 'eta': 0.01, 'subsample': 1.0}. Best is trial 47 with value: 0.5530116941881646.\n"
     ]
    },
    {
     "name": "stdout",
     "output_type": "stream",
     "text": [
      "\n",
      "Optuna parameters: {'n_estimators': 450, 'max_depth': 6, 'colsample_bylevel': 0.8, 'max_bin': 63, 'eta': 0.1, 'subsample': 1.0, 'auto_class_weights': 'Balanced', 'random_state': 45, 'logging_level': 'Silent'}\n",
      "\n",
      "Starting fit\n",
      "Starting fit\n",
      "Starting fit\n",
      "Starting fit\n"
     ]
    },
    {
     "name": "stderr",
     "output_type": "stream",
     "text": [
      "[I 2021-06-10 07:36:51,773] Trial 40 finished with value: 0.23666666666666666 and parameters: {'n_estimators': 500, 'max_depth': 11, 'colsample_bylevel': 0.2, 'max_bin': 63, 'eta': 0.02, 'subsample': 0.3}. Best is trial 47 with value: 0.5530116941881646.\n"
     ]
    },
    {
     "name": "stdout",
     "output_type": "stream",
     "text": [
      "\n",
      "Optuna parameters: {'n_estimators': 20, 'max_depth': 4, 'colsample_bylevel': 0.6, 'max_bin': 63, 'eta': 0.05, 'subsample': 1.0, 'auto_class_weights': 'Balanced', 'random_state': 45, 'logging_level': 'Silent'}\n",
      "\n",
      "Starting fit\n",
      "Starting fit\n",
      "Starting fit\n",
      "Starting fit\n",
      "Starting fit\n",
      "Starting fit\n"
     ]
    },
    {
     "name": "stderr",
     "output_type": "stream",
     "text": [
      "[I 2021-06-10 07:36:55,481] Trial 58 finished with value: 0.44275528393175445 and parameters: {'n_estimators': 20, 'max_depth': 4, 'colsample_bylevel': 0.6, 'max_bin': 63, 'eta': 0.05, 'subsample': 1.0}. Best is trial 47 with value: 0.5530116941881646.\n"
     ]
    },
    {
     "name": "stdout",
     "output_type": "stream",
     "text": [
      "\n",
      "Optuna parameters: {'n_estimators': 400, 'max_depth': 7, 'colsample_bylevel': 0.8, 'max_bin': 63, 'eta': 0.15, 'subsample': 1.0, 'auto_class_weights': 'Balanced', 'random_state': 45, 'logging_level': 'Silent'}\n",
      "\n",
      "Starting fit\n"
     ]
    },
    {
     "name": "stderr",
     "output_type": "stream",
     "text": [
      "[I 2021-06-10 07:36:56,811] Trial 57 finished with value: 0.27111111111111114 and parameters: {'n_estimators': 450, 'max_depth': 6, 'colsample_bylevel': 0.8, 'max_bin': 63, 'eta': 0.1, 'subsample': 1.0}. Best is trial 47 with value: 0.5530116941881646.\n"
     ]
    },
    {
     "name": "stdout",
     "output_type": "stream",
     "text": [
      "\n",
      "Optuna parameters: {'n_estimators': 300, 'max_depth': 5, 'colsample_bylevel': 0.2, 'max_bin': 63, 'eta': 0.01, 'subsample': 1.0, 'auto_class_weights': 'Balanced', 'random_state': 45, 'logging_level': 'Silent'}\n",
      "\n",
      "Starting fit\n",
      "Starting fit\n",
      "Starting fit\n",
      "Starting fit\n",
      "Starting fit\n",
      "Starting fitStarting fit\n",
      "\n"
     ]
    },
    {
     "name": "stderr",
     "output_type": "stream",
     "text": [
      "[I 2021-06-10 07:37:04,211] Trial 60 finished with value: 0.36264957264957265 and parameters: {'n_estimators': 300, 'max_depth': 5, 'colsample_bylevel': 0.2, 'max_bin': 63, 'eta': 0.01, 'subsample': 1.0}. Best is trial 47 with value: 0.5530116941881646.\n"
     ]
    },
    {
     "name": "stdout",
     "output_type": "stream",
     "text": [
      "\n",
      "Optuna parameters: {'n_estimators': 50, 'max_depth': 3, 'colsample_bylevel': 0.9, 'max_bin': 511, 'eta': 0.01, 'subsample': 0.9, 'auto_class_weights': 'Balanced', 'random_state': 45, 'logging_level': 'Silent'}\n",
      "\n",
      "Starting fit\n",
      "Starting fit\n",
      "Starting fit\n",
      "Starting fitStarting fit\n",
      "\n",
      "Starting fit\n"
     ]
    },
    {
     "name": "stderr",
     "output_type": "stream",
     "text": [
      "[I 2021-06-10 07:37:07,791] Trial 61 finished with value: 0.5530116941881646 and parameters: {'n_estimators': 50, 'max_depth': 3, 'colsample_bylevel': 0.9, 'max_bin': 511, 'eta': 0.01, 'subsample': 0.9}. Best is trial 47 with value: 0.5530116941881646.\n"
     ]
    },
    {
     "name": "stdout",
     "output_type": "stream",
     "text": [
      "\n",
      "Optuna parameters: {'n_estimators': 50, 'max_depth': 4, 'colsample_bylevel': 0.1, 'max_bin': 511, 'eta': 0.01, 'subsample': 0.9, 'auto_class_weights': 'Balanced', 'random_state': 45, 'logging_level': 'Silent'}\n",
      "\n",
      "Starting fit\n",
      "Starting fit\n",
      "Starting fit\n",
      "Starting fit\n",
      "Starting fit\n",
      "Starting fit\n"
     ]
    },
    {
     "name": "stderr",
     "output_type": "stream",
     "text": [
      "[I 2021-06-10 07:37:10,521] Trial 62 finished with value: 0.4541147741147741 and parameters: {'n_estimators': 50, 'max_depth': 4, 'colsample_bylevel': 0.1, 'max_bin': 511, 'eta': 0.01, 'subsample': 0.9}. Best is trial 47 with value: 0.5530116941881646.\n"
     ]
    },
    {
     "name": "stdout",
     "output_type": "stream",
     "text": [
      "\n",
      "Optuna parameters: {'n_estimators': 50, 'max_depth': 2, 'colsample_bylevel': 0.9, 'max_bin': 511, 'eta': 0.01, 'subsample': 0.9, 'auto_class_weights': 'Balanced', 'random_state': 45, 'logging_level': 'Silent'}\n",
      "\n",
      "Starting fit\n",
      "Starting fit\n",
      "Starting fit\n",
      "Starting fit\n",
      "Starting fit\n"
     ]
    },
    {
     "name": "stderr",
     "output_type": "stream",
     "text": [
      "[I 2021-06-10 07:37:14,044] Trial 59 finished with value: 0.15777777777777777 and parameters: {'n_estimators': 400, 'max_depth': 7, 'colsample_bylevel': 0.8, 'max_bin': 63, 'eta': 0.15, 'subsample': 1.0}. Best is trial 47 with value: 0.5530116941881646.\n"
     ]
    },
    {
     "name": "stdout",
     "output_type": "stream",
     "text": [
      "\n",
      "Optuna parameters: {'n_estimators': 100, 'max_depth': 10, 'colsample_bylevel': 0.6, 'max_bin': 63, 'eta': 0.01, 'subsample': 0.9, 'auto_class_weights': 'Balanced', 'random_state': 45, 'logging_level': 'Silent'}\n",
      "\n",
      "Starting fit\n"
     ]
    },
    {
     "name": "stderr",
     "output_type": "stream",
     "text": [
      "[I 2021-06-10 07:37:14,387] Trial 63 finished with value: 0.5442204853969559 and parameters: {'n_estimators': 50, 'max_depth': 2, 'colsample_bylevel': 0.9, 'max_bin': 511, 'eta': 0.01, 'subsample': 0.9}. Best is trial 47 with value: 0.5530116941881646.\n"
     ]
    },
    {
     "name": "stdout",
     "output_type": "stream",
     "text": [
      "\n",
      "Optuna parameters: {'n_estimators': 500, 'max_depth': 3, 'colsample_bylevel': 0.9, 'max_bin': 511, 'eta': 0.02, 'subsample': 0.9, 'auto_class_weights': 'Balanced', 'random_state': 45, 'logging_level': 'Silent'}\n",
      "\n",
      "Starting fit\n",
      "Starting fit\n",
      "Starting fit\n",
      "Starting fit\n",
      "Starting fit\n",
      "Starting fit\n",
      "Starting fit\n",
      "Starting fit\n"
     ]
    },
    {
     "name": "stderr",
     "output_type": "stream",
     "text": [
      "[I 2021-06-10 07:37:22,707] Trial 65 finished with value: 0.3589743589743589 and parameters: {'n_estimators': 500, 'max_depth': 3, 'colsample_bylevel': 0.9, 'max_bin': 511, 'eta': 0.02, 'subsample': 0.9}. Best is trial 47 with value: 0.5530116941881646.\n"
     ]
    },
    {
     "name": "stdout",
     "output_type": "stream",
     "text": [
      "\n",
      "Optuna parameters: {'n_estimators': 450, 'max_depth': 3, 'colsample_bylevel': 0.9, 'max_bin': 511, 'eta': 0.01, 'subsample': 0.3, 'auto_class_weights': 'Balanced', 'random_state': 45, 'logging_level': 'Silent'}\n",
      "\n",
      "Starting fit\n",
      "Starting fit\n",
      "Starting fit\n",
      "Starting fit\n",
      "Starting fit\n",
      "Starting fit\n",
      "Starting fit\n"
     ]
    },
    {
     "name": "stderr",
     "output_type": "stream",
     "text": [
      "[I 2021-06-10 07:37:32,911] Trial 66 finished with value: 0.3801587301587302 and parameters: {'n_estimators': 450, 'max_depth': 3, 'colsample_bylevel': 0.9, 'max_bin': 511, 'eta': 0.01, 'subsample': 0.3}. Best is trial 47 with value: 0.5530116941881646.\n"
     ]
    },
    {
     "name": "stdout",
     "output_type": "stream",
     "text": [
      "\n",
      "Optuna parameters: {'n_estimators': 400, 'max_depth': 3, 'colsample_bylevel': 0.9, 'max_bin': 511, 'eta': 0.01, 'subsample': 0.9, 'auto_class_weights': 'Balanced', 'random_state': 45, 'logging_level': 'Silent'}\n",
      "\n",
      "Starting fit\n",
      "Starting fit\n"
     ]
    },
    {
     "name": "stderr",
     "output_type": "stream",
     "text": [
      "[I 2021-06-10 07:37:35,100] Trial 64 finished with value: 0.46995475113122176 and parameters: {'n_estimators': 100, 'max_depth': 10, 'colsample_bylevel': 0.6, 'max_bin': 63, 'eta': 0.01, 'subsample': 0.9}. Best is trial 47 with value: 0.5530116941881646.\n"
     ]
    },
    {
     "name": "stdout",
     "output_type": "stream",
     "text": [
      "\n",
      "Optuna parameters: {'n_estimators': 400, 'max_depth': 4, 'colsample_bylevel': 0.9, 'max_bin': 511, 'eta': 0.01, 'subsample': 0.9, 'auto_class_weights': 'Balanced', 'random_state': 45, 'logging_level': 'Silent'}\n",
      "\n",
      "Starting fit\n",
      "Starting fit\n",
      "Starting fit\n",
      "Starting fit\n",
      "Starting fit\n",
      "Starting fit\n",
      "Starting fit\n"
     ]
    },
    {
     "name": "stderr",
     "output_type": "stream",
     "text": [
      "[I 2021-06-10 07:37:42,353] Trial 67 finished with value: 0.3746031746031746 and parameters: {'n_estimators': 400, 'max_depth': 3, 'colsample_bylevel': 0.9, 'max_bin': 511, 'eta': 0.01, 'subsample': 0.9}. Best is trial 47 with value: 0.5530116941881646.\n"
     ]
    },
    {
     "name": "stdout",
     "output_type": "stream",
     "text": [
      "\n",
      "Optuna parameters: {'n_estimators': 50, 'max_depth': 3, 'colsample_bylevel': 0.3, 'max_bin': 63, 'eta': 0.15, 'subsample': 0.7, 'auto_class_weights': 'Balanced', 'random_state': 45, 'logging_level': 'Silent'}\n",
      "\n",
      "Starting fit\n",
      "Starting fit\n",
      "Starting fit\n",
      "Starting fit\n",
      "Starting fit\n"
     ]
    },
    {
     "name": "stderr",
     "output_type": "stream",
     "text": [
      "[I 2021-06-10 07:37:45,453] Trial 68 finished with value: 0.38682539682539685 and parameters: {'n_estimators': 400, 'max_depth': 4, 'colsample_bylevel': 0.9, 'max_bin': 511, 'eta': 0.01, 'subsample': 0.9}. Best is trial 47 with value: 0.5530116941881646.\n"
     ]
    },
    {
     "name": "stdout",
     "output_type": "stream",
     "text": [
      "Starting fit\n",
      "\n",
      "Optuna parameters: {'n_estimators': 250, 'max_depth': 2, 'colsample_bylevel': 0.8, 'max_bin': 63, 'eta': 0.05, 'subsample': 0.7, 'auto_class_weights': 'Balanced', 'random_state': 45, 'logging_level': 'Silent'}\n",
      "\n",
      "Starting fit\n"
     ]
    },
    {
     "name": "stderr",
     "output_type": "stream",
     "text": [
      "[I 2021-06-10 07:37:45,865] Trial 69 finished with value: 0.337012987012987 and parameters: {'n_estimators': 50, 'max_depth': 3, 'colsample_bylevel': 0.3, 'max_bin': 63, 'eta': 0.15, 'subsample': 0.7}. Best is trial 47 with value: 0.5530116941881646.\n"
     ]
    },
    {
     "name": "stdout",
     "output_type": "stream",
     "text": [
      "\n",
      "Optuna parameters: {'n_estimators': 350, 'max_depth': 4, 'colsample_bylevel': 0.8, 'max_bin': 255, 'eta': 0.1, 'subsample': 0.7, 'auto_class_weights': 'Balanced', 'random_state': 45, 'logging_level': 'Silent'}\n",
      "\n",
      "Starting fit\n",
      "Starting fit\n",
      "Starting fit\n",
      "Starting fit\n",
      "Starting fit\n",
      "Starting fit\n",
      "Starting fit\n"
     ]
    },
    {
     "name": "stderr",
     "output_type": "stream",
     "text": [
      "[I 2021-06-10 07:37:51,294] Trial 70 finished with value: 0.38292929292929295 and parameters: {'n_estimators': 250, 'max_depth': 2, 'colsample_bylevel': 0.8, 'max_bin': 63, 'eta': 0.05, 'subsample': 0.7}. Best is trial 47 with value: 0.5530116941881646.\n"
     ]
    },
    {
     "name": "stdout",
     "output_type": "stream",
     "text": [
      "\n",
      "Optuna parameters: {'n_estimators': 50, 'max_depth': 2, 'colsample_bylevel': 0.9, 'max_bin': 127, 'eta': 0.03, 'subsample': 0.4, 'auto_class_weights': 'Balanced', 'random_state': 45, 'logging_level': 'Silent'}\n",
      "\n",
      "Starting fit\n",
      "Starting fit\n",
      "Starting fit\n",
      "Starting fit\n",
      "Starting fit\n",
      "Starting fit\n",
      "Starting fit\n"
     ]
    },
    {
     "name": "stderr",
     "output_type": "stream",
     "text": [
      "[I 2021-06-10 07:37:54,984] Trial 72 finished with value: 0.5299347711112417 and parameters: {'n_estimators': 50, 'max_depth': 2, 'colsample_bylevel': 0.9, 'max_bin': 127, 'eta': 0.03, 'subsample': 0.4}. Best is trial 47 with value: 0.5530116941881646.\n"
     ]
    },
    {
     "name": "stdout",
     "output_type": "stream",
     "text": [
      "\n",
      "Optuna parameters: {'n_estimators': 400, 'max_depth': 2, 'colsample_bylevel': 0.9, 'max_bin': 127, 'eta': 0.03, 'subsample': 0.4, 'auto_class_weights': 'Balanced', 'random_state': 45, 'logging_level': 'Silent'}\n",
      "\n",
      "Starting fit\n"
     ]
    },
    {
     "name": "stderr",
     "output_type": "stream",
     "text": [
      "[I 2021-06-10 07:37:55,316] Trial 71 finished with value: 0.25 and parameters: {'n_estimators': 350, 'max_depth': 4, 'colsample_bylevel': 0.8, 'max_bin': 255, 'eta': 0.1, 'subsample': 0.7}. Best is trial 47 with value: 0.5530116941881646.\n"
     ]
    },
    {
     "name": "stdout",
     "output_type": "stream",
     "text": [
      "\n",
      "Optuna parameters: {'n_estimators': 50, 'max_depth': 6, 'colsample_bylevel': 0.9, 'max_bin': 511, 'eta': 0.05, 'subsample': 0.9, 'auto_class_weights': 'Balanced', 'random_state': 45, 'logging_level': 'Silent'}\n",
      "\n",
      "Starting fit\n",
      "Starting fit\n",
      "Starting fit\n",
      "Starting fit\n",
      "Starting fit\n",
      "Starting fit\n",
      "Starting fit\n",
      "Starting fit\n"
     ]
    },
    {
     "name": "stderr",
     "output_type": "stream",
     "text": [
      "[I 2021-06-10 07:38:00,682] Trial 74 finished with value: 0.3888888888888889 and parameters: {'n_estimators': 50, 'max_depth': 6, 'colsample_bylevel': 0.9, 'max_bin': 511, 'eta': 0.05, 'subsample': 0.9}. Best is trial 47 with value: 0.5530116941881646.\n"
     ]
    },
    {
     "name": "stdout",
     "output_type": "stream",
     "text": [
      "Starting fit\n",
      "\n",
      "Optuna parameters: {'n_estimators': 450, 'max_depth': 2, 'colsample_bylevel': 0.9, 'max_bin': 127, 'eta': 0.03, 'subsample': 0.4, 'auto_class_weights': 'Balanced', 'random_state': 45, 'logging_level': 'Silent'}\n",
      "\n",
      "Starting fit\n"
     ]
    },
    {
     "name": "stderr",
     "output_type": "stream",
     "text": [
      "[I 2021-06-10 07:38:02,059] Trial 73 finished with value: 0.31575757575757574 and parameters: {'n_estimators': 400, 'max_depth': 2, 'colsample_bylevel': 0.9, 'max_bin': 127, 'eta': 0.03, 'subsample': 0.4}. Best is trial 47 with value: 0.5530116941881646.\n"
     ]
    },
    {
     "name": "stdout",
     "output_type": "stream",
     "text": [
      "Starting fit\n",
      "\n",
      "Optuna parameters: {'n_estimators': 50, 'max_depth': 4, 'colsample_bylevel': 0.7, 'max_bin': 127, 'eta': 0.03, 'subsample': 0.4, 'auto_class_weights': 'Balanced', 'random_state': 45, 'logging_level': 'Silent'}\n",
      "\n",
      "Starting fit\n",
      "Starting fit\n",
      "Starting fitStarting fit\n",
      "\n",
      "Starting fit\n",
      "Starting fit\n",
      "Starting fit\n"
     ]
    },
    {
     "name": "stderr",
     "output_type": "stream",
     "text": [
      "[I 2021-06-10 07:38:06,386] Trial 76 finished with value: 0.48151848151848153 and parameters: {'n_estimators': 50, 'max_depth': 4, 'colsample_bylevel': 0.7, 'max_bin': 127, 'eta': 0.03, 'subsample': 0.4}. Best is trial 47 with value: 0.5530116941881646.\n"
     ]
    },
    {
     "name": "stdout",
     "output_type": "stream",
     "text": [
      "\n",
      "Optuna parameters: {'n_estimators': 50, 'max_depth': 2, 'colsample_bylevel': 0.9, 'max_bin': 511, 'eta': 0.01, 'subsample': 0.8, 'auto_class_weights': 'Balanced', 'random_state': 45, 'logging_level': 'Silent'}\n",
      "\n",
      "Starting fit\n",
      "Starting fit\n",
      "Starting fit\n",
      "Starting fit\n"
     ]
    },
    {
     "name": "stderr",
     "output_type": "stream",
     "text": [
      "[I 2021-06-10 07:38:08,520] Trial 75 finished with value: 0.3233766233766234 and parameters: {'n_estimators': 450, 'max_depth': 2, 'colsample_bylevel': 0.9, 'max_bin': 127, 'eta': 0.03, 'subsample': 0.4}. Best is trial 47 with value: 0.5530116941881646.\n"
     ]
    },
    {
     "name": "stdout",
     "output_type": "stream",
     "text": [
      "Starting fit\n",
      "\n",
      "Optuna parameters: {'n_estimators': 50, 'max_depth': 3, 'colsample_bylevel': 0.9, 'max_bin': 63, 'eta': 0.03, 'subsample': 1.0, 'auto_class_weights': 'Balanced', 'random_state': 45, 'logging_level': 'Silent'}\n",
      "\n",
      "Starting fit\n",
      "Starting fit\n",
      "Starting fit\n",
      "Starting fit"
     ]
    },
    {
     "name": "stderr",
     "output_type": "stream",
     "text": [
      "[I 2021-06-10 07:38:10,298]"
     ]
    },
    {
     "name": "stdout",
     "output_type": "stream",
     "text": [
      "\n"
     ]
    },
    {
     "name": "stderr",
     "output_type": "stream",
     "text": [
      " Trial 77 finished with value: 0.5237076648841354 and parameters: {'n_estimators': 50, 'max_depth': 2, 'colsample_bylevel': 0.9, 'max_bin': 511, 'eta': 0.01, 'subsample': 0.8}. Best is trial 47 with value: 0.5530116941881646.\n"
     ]
    },
    {
     "name": "stdout",
     "output_type": "stream",
     "text": [
      "\n",
      "Optuna parameters: {'n_estimators': 50, 'max_depth': 3, 'colsample_bylevel': 0.9, 'max_bin': 127, 'eta': 0.01, 'subsample': 0.9, 'auto_class_weights': 'Balanced', 'random_state': 45, 'logging_level': 'Silent'}\n",
      "\n",
      "Starting fit\n",
      "Starting fit\n",
      "Starting fit\n",
      "Starting fit\n",
      "Starting fit\n",
      "Starting fit\n"
     ]
    },
    {
     "name": "stderr",
     "output_type": "stream",
     "text": [
      "[I 2021-06-10 07:38:12,692] Trial 78 finished with value: 0.49946524064171127 and parameters: {'n_estimators': 50, 'max_depth': 3, 'colsample_bylevel': 0.9, 'max_bin': 63, 'eta': 0.03, 'subsample': 1.0}. Best is trial 47 with value: 0.5530116941881646.\n"
     ]
    },
    {
     "name": "stdout",
     "output_type": "stream",
     "text": [
      "\n",
      "Optuna parameters: {'n_estimators': 50, 'max_depth': 3, 'colsample_bylevel': 0.9, 'max_bin': 31, 'eta': 0.1, 'subsample': 0.9, 'auto_class_weights': 'Balanced', 'random_state': 45, 'logging_level': 'Silent'}\n",
      "\n",
      "Starting fit\n",
      "Starting fit\n",
      "Starting fit\n",
      "Starting fit\n"
     ]
    },
    {
     "name": "stderr",
     "output_type": "stream",
     "text": [
      "[I 2021-06-10 07:38:14,695] Trial 79 finished with value: 0.5530116941881646 and parameters: {'n_estimators': 50, 'max_depth': 3, 'colsample_bylevel': 0.9, 'max_bin': 127, 'eta': 0.01, 'subsample': 0.9}. Best is trial 47 with value: 0.5530116941881646.\n"
     ]
    },
    {
     "name": "stdout",
     "output_type": "stream",
     "text": [
      "\n",
      "Optuna parameters: {'n_estimators': 50, 'max_depth': 5, 'colsample_bylevel': 0.9, 'max_bin': 127, 'eta': 0.01, 'subsample': 0.9, 'auto_class_weights': 'Balanced', 'random_state': 45, 'logging_level': 'Silent'}\n",
      "\n",
      "Starting fit\n"
     ]
    },
    {
     "name": "stderr",
     "output_type": "stream",
     "text": [
      "[I 2021-06-10 07:38:15,437] Trial 36 finished with value: 0.2544444444444444 and parameters: {'n_estimators': 400, 'max_depth': 13, 'colsample_bylevel': 0.1, 'max_bin': 63, 'eta': 0.02, 'subsample': 0.3}. Best is trial 47 with value: 0.5530116941881646.\n"
     ]
    },
    {
     "name": "stdout",
     "output_type": "stream",
     "text": [
      "\n",
      "Optuna parameters: {'n_estimators': 100, 'max_depth': 5, 'colsample_bylevel': 0.9, 'max_bin': 127, 'eta': 0.01, 'subsample': 0.9, 'auto_class_weights': 'Balanced', 'random_state': 45, 'logging_level': 'Silent'}\n",
      "\n",
      "Starting fit\n",
      "Starting fit\n",
      "Starting fit\n",
      "Starting fit\n",
      "Starting fit\n",
      "Starting fit\n",
      "Starting fit"
     ]
    },
    {
     "name": "stderr",
     "output_type": "stream",
     "text": [
      "[I 2021-06-10 07:38:17,869]"
     ]
    },
    {
     "name": "stdout",
     "output_type": "stream",
     "text": [
      "\n"
     ]
    },
    {
     "name": "stderr",
     "output_type": "stream",
     "text": [
      " Trial 80 finished with value: 0.3393939393939394 and parameters: {'n_estimators': 50, 'max_depth': 3, 'colsample_bylevel': 0.9, 'max_bin': 31, 'eta': 0.1, 'subsample': 0.9}. Best is trial 47 with value: 0.5530116941881646.\n"
     ]
    },
    {
     "name": "stdout",
     "output_type": "stream",
     "text": [
      "Starting fit\n",
      "\n",
      "Optuna parameters: {'n_estimators': 50, 'max_depth': 4, 'colsample_bylevel': 0.9, 'max_bin': 127, 'eta': 0.01, 'subsample': 0.9, 'auto_class_weights': 'Balanced', 'random_state': 45, 'logging_level': 'Silent'}\n",
      "\n",
      "Starting fit\n",
      "Starting fit\n",
      "Starting fitStarting fit\n",
      "\n"
     ]
    },
    {
     "name": "stderr",
     "output_type": "stream",
     "text": [
      "[I 2021-06-10 07:38:19,861] Trial 81 finished with value: 0.5237076648841354 and parameters: {'n_estimators': 50, 'max_depth': 5, 'colsample_bylevel': 0.9, 'max_bin': 127, 'eta': 0.01, 'subsample': 0.9}. Best is trial 47 with value: 0.5530116941881646.\n"
     ]
    },
    {
     "name": "stdout",
     "output_type": "stream",
     "text": [
      "Starting fit\n",
      "\n",
      "Optuna parameters: {'n_estimators': 50, 'max_depth': 2, 'colsample_bylevel': 0.9, 'max_bin': 255, 'eta': 0.03, 'subsample': 0.4, 'auto_class_weights': 'Balanced', 'random_state': 45, 'logging_level': 'Silent'}\n",
      "\n",
      "Starting fit\n",
      "Starting fit\n",
      "Starting fit\n",
      "Starting fit\n"
     ]
    },
    {
     "name": "stderr",
     "output_type": "stream",
     "text": [
      "[I 2021-06-10 07:38:21,024] Trial 82 finished with value: 0.49946524064171127 and parameters: {'n_estimators': 100, 'max_depth': 5, 'colsample_bylevel': 0.9, 'max_bin': 127, 'eta': 0.01, 'subsample': 0.9}. Best is trial 47 with value: 0.5530116941881646.\n"
     ]
    },
    {
     "name": "stdout",
     "output_type": "stream",
     "text": [
      "\n",
      "Optuna parameters: {'n_estimators': 20, 'max_depth': 2, 'colsample_bylevel': 0.6, 'max_bin': 511, 'eta': 0.01, 'subsample': 0.7, 'auto_class_weights': 'Balanced', 'random_state': 45, 'logging_level': 'Silent'}\n",
      "Starting fit\n",
      "\n",
      "Starting fit\n",
      "Starting fit\n",
      "Starting fit\n",
      "Starting fit\n",
      "Starting fit\n"
     ]
    },
    {
     "name": "stderr",
     "output_type": "stream",
     "text": [
      "[I 2021-06-10 07:38:23,075] Trial 83 finished with value: 0.5160886172650877 and parameters: {'n_estimators': 50, 'max_depth': 4, 'colsample_bylevel': 0.9, 'max_bin': 127, 'eta': 0.01, 'subsample': 0.9}. Best is trial 47 with value: 0.5530116941881646."
     ]
    },
    {
     "name": "stdout",
     "output_type": "stream",
     "text": [
      "Starting fit"
     ]
    },
    {
     "name": "stderr",
     "output_type": "stream",
     "text": [
      "\n"
     ]
    },
    {
     "name": "stdout",
     "output_type": "stream",
     "text": [
      "\n",
      "\n",
      "Optuna parameters: {'n_estimators': 20, 'max_depth': 2, 'colsample_bylevel': 0.5, 'max_bin': 511, 'eta': 0.01, 'subsample': 0.5, 'auto_class_weights': 'Balanced', 'random_state': 45, 'logging_level': 'Silent'}\n",
      "\n",
      "Starting fit\n",
      "Starting fit\n"
     ]
    },
    {
     "name": "stderr",
     "output_type": "stream",
     "text": [
      "[I 2021-06-10 07:38:23,576]"
     ]
    },
    {
     "name": "stdout",
     "output_type": "stream",
     "text": [
      "Starting fit\n"
     ]
    },
    {
     "name": "stderr",
     "output_type": "stream",
     "text": [
      " Trial 84 finished with value: 0.5366014377779084 and parameters: {'n_estimators': 50, 'max_depth': 2, 'colsample_bylevel': 0.9, 'max_bin': 255, 'eta': 0.03, 'subsample': 0.4}. Best is trial 47 with value: 0.5530116941881646.\n"
     ]
    },
    {
     "name": "stdout",
     "output_type": "stream",
     "text": [
      "\n",
      "Optuna parameters: {'n_estimators': 30, 'max_depth': 2, 'colsample_bylevel': 0.9, 'max_bin': 255, 'eta': 0.03, 'subsample': 0.4, 'auto_class_weights': 'Balanced', 'random_state': 45, 'logging_level': 'Silent'}\n",
      "\n",
      "Starting fit\n",
      "Starting fit\n",
      "Starting fitStarting fit\n",
      "\n",
      "Starting fit\n",
      "Starting fit\n"
     ]
    },
    {
     "name": "stderr",
     "output_type": "stream",
     "text": [
      "[I 2021-06-10 07:38:25,845]"
     ]
    },
    {
     "name": "stdout",
     "output_type": "stream",
     "text": [
      "Starting fit"
     ]
    },
    {
     "name": "stderr",
     "output_type": "stream",
     "text": [
      " Trial 85 finished with value: 0.5129824561403509 and parameters: {'n_estimators': 20, 'max_depth': 2, 'colsample_bylevel': 0.6, 'max_bin': 511, 'eta': 0.01, 'subsample': 0.7}. Best is trial 47 with value: 0.5530116941881646.\n"
     ]
    },
    {
     "name": "stdout",
     "output_type": "stream",
     "text": [
      "\n",
      "\n",
      "Optuna parameters: {'n_estimators': 500, 'max_depth': 4, 'colsample_bylevel': 0.9, 'max_bin': 255, 'eta': 0.03, 'subsample': 0.6, 'auto_class_weights': 'Balanced', 'random_state': 45, 'logging_level': 'Silent'}\n",
      "\n",
      "Starting fit\n",
      "Starting fitStarting fit\n",
      "\n"
     ]
    },
    {
     "name": "stderr",
     "output_type": "stream",
     "text": [
      "[I 2021-06-10 07:38:27,950] Trial 87 finished with value: 0.5427552839317544 and parameters: {'n_estimators': 30, 'max_depth': 2, 'colsample_bylevel': 0.9, 'max_bin': 255, 'eta': 0.03, 'subsample': 0.4}. Best is trial 47 with value: 0.5530116941881646.\n",
      "[I 2021-06-10 07:38:27,956] Trial 86 finished with value: 0.5113827349121466 and parameters: {'n_estimators': 20, 'max_depth': 2, 'colsample_bylevel': 0.5, 'max_bin': 511, 'eta': 0.01, 'subsample': 0.5}. Best is trial 47 with value: 0.5530116941881646.\n"
     ]
    },
    {
     "name": "stdout",
     "output_type": "stream",
     "text": [
      "\n",
      "Optuna parameters: {'n_estimators': 30, 'max_depth': 2, 'colsample_bylevel': 0.9, 'max_bin': 255, 'eta': 0.3, 'subsample': 0.4, 'auto_class_weights': 'Balanced', 'random_state': 45, 'logging_level': 'Silent'}\n",
      "\n",
      "\n",
      "Optuna parameters: {'n_estimators': 30, 'max_depth': 3, 'colsample_bylevel': 0.1, 'max_bin': 255, 'eta': 0.03, 'subsample': 0.5, 'auto_class_weights': 'Balanced', 'random_state': 45, 'logging_level': 'Silent'}\n",
      "Starting fit\n",
      "\n",
      "Starting fit\n",
      "Starting fit\n",
      "Starting fit\n",
      "Starting fit\n",
      "Starting fit\n",
      "Starting fit\n",
      "Starting fit\n",
      "Starting fitStarting fit\n",
      "\n",
      "Starting fit\n",
      "Starting fit\n",
      "Starting fit\n"
     ]
    },
    {
     "name": "stderr",
     "output_type": "stream",
     "text": [
      "[I 2021-06-10 07:38:32,853] Trial 89 finished with value: 0.3765834165834166 and parameters: {'n_estimators': 30, 'max_depth': 2, 'colsample_bylevel': 0.9, 'max_bin': 255, 'eta': 0.3, 'subsample': 0.4}. Best is trial 47 with value: 0.5530116941881646.\n",
      "[I 2021-06-10 07:38:32,859] Trial 90 finished with value: 0.45551948051948044 and parameters: {'n_estimators': 30, 'max_depth': 3, 'colsample_bylevel': 0.1, 'max_bin': 255, 'eta': 0.03, 'subsample': 0.5}. Best is trial 47 with value: 0.5530116941881646.\n"
     ]
    },
    {
     "name": "stdout",
     "output_type": "stream",
     "text": [
      "\n",
      "Optuna parameters: {'n_estimators': 200, 'max_depth': 3, 'colsample_bylevel': 0.9, 'max_bin': 63, 'eta': 0.01, 'subsample': 0.4, 'auto_class_weights': 'Balanced', 'random_state': 45, 'logging_level': 'Silent'}\n",
      "\n",
      "\n",
      "Optuna parameters: {'n_estimators': 150, 'max_depth': 7, 'colsample_bylevel': 0.9, 'max_bin': 255, 'eta': 0.03, 'subsample': 0.4, 'auto_class_weights': 'Balanced', 'random_state': 45, 'logging_level': 'Silent'}\n",
      "\n",
      "Starting fit\n",
      "Starting fit\n",
      "Starting fit\n",
      "Starting fitStarting fit\n",
      "Starting fit\n",
      "\n",
      "Starting fit\n",
      "Starting fitStarting fit\n",
      "\n"
     ]
    },
    {
     "name": "stderr",
     "output_type": "stream",
     "text": [
      "[I 2021-06-10 07:38:37,426] Trial 88 finished with value: 0.30333333333333334 and parameters: {'n_estimators': 500, 'max_depth': 4, 'colsample_bylevel': 0.9, 'max_bin': 255, 'eta': 0.03, 'subsample': 0.6}. Best is trial 47 with value: 0.5530116941881646.\n"
     ]
    },
    {
     "name": "stdout",
     "output_type": "stream",
     "text": [
      "\n",
      "Optuna parameters: {'n_estimators': 20, 'max_depth': 2, 'colsample_bylevel': 0.7, 'max_bin': 63, 'eta': 0.01, 'subsample': 0.7, 'auto_class_weights': 'Balanced', 'random_state': 45, 'logging_level': 'Silent'}\n",
      "\n",
      "Starting fit\n",
      "Starting fit\n"
     ]
    },
    {
     "name": "stderr",
     "output_type": "stream",
     "text": [
      "[I 2021-06-10 07:38:38,400] Trial 92 finished with value: 0.50825644943292 and parameters: {'n_estimators': 200, 'max_depth': 3, 'colsample_bylevel': 0.9, 'max_bin': 63, 'eta': 0.01, 'subsample': 0.4}. Best is trial 47 with value: 0.5530116941881646.\n"
     ]
    },
    {
     "name": "stdout",
     "output_type": "stream",
     "text": [
      "\n",
      "Optuna parameters: {'n_estimators': 10, 'max_depth': 2, 'colsample_bylevel': 0.8, 'max_bin': 255, 'eta': 0.03, 'subsample': 0.4, 'auto_class_weights': 'Balanced', 'random_state': 45, 'logging_level': 'Silent'}\n",
      "\n",
      "Starting fit\n",
      "Starting fit\n",
      "Starting fitStarting fit\n",
      "\n",
      "Starting fit\n",
      "Starting fit\n",
      "Starting fitStarting fit\n",
      "Starting fit\n",
      "\n"
     ]
    },
    {
     "name": "stderr",
     "output_type": "stream",
     "text": [
      "[I 2021-06-10 07:38:42,207] Trial 93 finished with value: 0.48942195059842114 and parameters: {'n_estimators': 20, 'max_depth': 2, 'colsample_bylevel': 0.7, 'max_bin': 63, 'eta': 0.01, 'subsample': 0.7}. Best is trial 47 with value: 0.5530116941881646.\n"
     ]
    },
    {
     "name": "stdout",
     "output_type": "stream",
     "text": [
      "Starting fit\n",
      "\n",
      "Optuna parameters: {'n_estimators': 30, 'max_depth': 3, 'colsample_bylevel': 1.0, 'max_bin': 255, 'eta': 0.03, 'subsample': 0.4, 'auto_class_weights': 'Balanced', 'random_state': 45, 'logging_level': 'Silent'}\n",
      "\n",
      "Starting fit\n"
     ]
    },
    {
     "name": "stderr",
     "output_type": "stream",
     "text": [
      "[I 2021-06-10 07:38:43,217] Trial 94 finished with value: 0.48942195059842114 and parameters: {'n_estimators': 10, 'max_depth': 2, 'colsample_bylevel': 0.8, 'max_bin': 255, 'eta': 0.03, 'subsample': 0.4}. Best is trial 47 with value: 0.5530116941881646.\n"
     ]
    },
    {
     "name": "stdout",
     "output_type": "stream",
     "text": [
      "Starting fit\n",
      "\n",
      "Optuna parameters: {'n_estimators': 50, 'max_depth': 2, 'colsample_bylevel': 0.9, 'max_bin': 255, 'eta': 0.02, 'subsample': 0.4, 'auto_class_weights': 'Balanced', 'random_state': 45, 'logging_level': 'Silent'}\n",
      "\n",
      "Starting fit\n"
     ]
    },
    {
     "name": "stderr",
     "output_type": "stream",
     "text": [
      "[I 2021-06-10 07:38:43,354] Trial 91 finished with value: 0.24666666666666665 and parameters: {'n_estimators': 150, 'max_depth': 7, 'colsample_bylevel': 0.9, 'max_bin': 255, 'eta': 0.03, 'subsample': 0.4}. Best is trial 47 with value: 0.5530116941881646.\n",
      "[I 2021-06-10 07:38:43,684] Trial 97 finished with value: 0.5366014377779084 and parameters: {'n_estimators': 50, 'max_depth': 2, 'colsample_bylevel': 0.9, 'max_bin': 255, 'eta': 0.03, 'subsample': 0.4}. Best is trial 47 with value: 0.5530116941881646.\n"
     ]
    },
    {
     "name": "stdout",
     "output_type": "stream",
     "text": [
      "\n",
      "Optuna parameters: {'n_estimators': 30, 'max_depth': 4, 'colsample_bylevel': 0.9, 'max_bin': 255, 'eta': 0.03, 'subsample': 0.3, 'auto_class_weights': 'Balanced', 'random_state': 45, 'logging_level': 'Silent'}\n",
      "\n",
      "Starting fit\n",
      "Starting fit\n",
      "Starting fit\n",
      "Starting fitStarting fit\n",
      "\n",
      "Starting fit\n",
      "Starting fitStarting fit\n",
      "\n",
      "Starting fitStarting fit\n",
      "Starting fit\n",
      "\n",
      "Starting fit\n",
      "Starting fit"
     ]
    },
    {
     "name": "stderr",
     "output_type": "stream",
     "text": [
      "[I 2021-06-10 07:38:47,379]"
     ]
    },
    {
     "name": "stdout",
     "output_type": "stream",
     "text": [
      "\n"
     ]
    },
    {
     "name": "stderr",
     "output_type": "stream",
     "text": [
      " Trial 95 finished with value: 0.4991655403420109 and parameters: {'n_estimators': 30, 'max_depth': 3, 'colsample_bylevel': 1.0, 'max_bin': 255, 'eta': 0.03, 'subsample': 0.4}. Best is trial 47 with value: 0.5530116941881646.\n"
     ]
    },
    {
     "name": "stdout",
     "output_type": "stream",
     "text": [
      "\n",
      "Optuna parameters: {'n_estimators': 50, 'max_depth': 4, 'colsample_bylevel': 0.9, 'max_bin': 255, 'eta': 0.02, 'subsample': 0.4, 'auto_class_weights': 'Balanced', 'random_state': 45, 'logging_level': 'Silent'}\n",
      "\n",
      "Starting fit\n"
     ]
    },
    {
     "name": "stderr",
     "output_type": "stream",
     "text": [
      "[I 2021-06-10 07:38:48,225] Trial 96 finished with value: 0.5058322070086775 and parameters: {'n_estimators': 50, 'max_depth': 2, 'colsample_bylevel': 0.9, 'max_bin': 255, 'eta': 0.02, 'subsample': 0.4}. Best is trial 47 with value: 0.5530116941881646.\n",
      "[I 2021-06-10 07:38:48,227] Trial 98 finished with value: 0.4918461930226635 and parameters: {'n_estimators': 30, 'max_depth': 4, 'colsample_bylevel': 0.9, 'max_bin': 255, 'eta': 0.03, 'subsample': 0.3}. Best is trial 47 with value: 0.5530116941881646.\n"
     ]
    },
    {
     "name": "stdout",
     "output_type": "stream",
     "text": [
      "Starting fit\n",
      "Starting fit\n",
      "Starting fit\n",
      "Starting fit\n"
     ]
    },
    {
     "name": "stderr",
     "output_type": "stream",
     "text": [
      "[I 2021-06-10 07:38:51,571] Trial 99 finished with value: 0.49946524064171127 and parameters: {'n_estimators': 50, 'max_depth': 4, 'colsample_bylevel': 0.9, 'max_bin': 255, 'eta': 0.02, 'subsample': 0.4}. Best is trial 47 with value: 0.5530116941881646.\n"
     ]
    },
    {
     "name": "stdout",
     "output_type": "stream",
     "text": [
      "Starting fit\n"
     ]
    }
   ],
   "source": [
    "model = launch_optuna(df.to_numpy(),rtca_target.to_numpy())\n",
    "# best_params_catboost_.json"
   ]
  },
  {
   "cell_type": "code",
   "execution_count": 75,
   "metadata": {},
   "outputs": [
    {
     "name": "stdout",
     "output_type": "stream",
     "text": [
      "No Skill: ROC AUC=0.500\n",
      "Logistic: ROC AUC=0.977\n"
     ]
    },
    {
     "data": {
      "text/plain": [
       "<matplotlib.legend.Legend at 0x7fa931bd5ac8>"
      ]
     },
     "execution_count": 75,
     "metadata": {},
     "output_type": "execute_result"
    },
    {
     "data": {
      "image/png": "[encoded data removed]",
      "text/plain": [
       "<Figure size 432x288 with 1 Axes>"
      ]
     },
     "metadata": {
      "needs_background": "light"
     },
     "output_type": "display_data"
    }
   ],
   "source": [
    "from sklearn.datasets import make_classification\n",
    "from sklearn.model_selection import train_test_split\n",
    "from sklearn.metrics import roc_curve\n",
    "from sklearn.metrics import roc_auc_score\n",
    "from matplotlib import pyplot\n",
    "\n",
    "X_train, X_test, y_train, y_test = train_test_split(df.to_numpy(),rtca_target.to_numpy(),test_size=0.2,random_state=42,shuffle=True)\n",
    "ns_probs = [0 for _ in range(len(y_test))]\n",
    "lr_probs = model.predict_proba(X_test)\n",
    "# keep probabilities for the positive outcome only\n",
    "lr_probs = lr_probs[:, 1]\n",
    "# calculate scores\n",
    "ns_auc = roc_auc_score(y_test, ns_probs)\n",
    "lr_auc = roc_auc_score(y_test, lr_probs)\n",
    "# summarize scores\n",
    "print('No Skill: ROC AUC=%.3f' % (ns_auc))\n",
    "print('Logistic: ROC AUC=%.3f' % (lr_auc))\n",
    "# calculate roc curves\n",
    "ns_fpr, ns_tpr, _ = roc_curve(y_test, ns_probs)\n",
    "lr_fpr, lr_tpr, _ = roc_curve(y_test, lr_probs)\n",
    "# plot the roc curve for the model\n",
    "pyplot.plot(ns_fpr, ns_tpr, linestyle='--', label='No Skill')\n",
    "pyplot.plot(lr_fpr, lr_tpr, marker='.', label='Logistic')\n",
    "# axis labels\n",
    "pyplot.xlabel('False Positive Rate')\n",
    "pyplot.ylabel('True Positive Rate')\n",
    "# show the legend\n",
    "pyplot.legend()\n",
    "# show the plot"
   ]
  },
  {
   "cell_type": "code",
   "execution_count": 76,
   "metadata": {},
   "outputs": [
    {
     "name": "stdout",
     "output_type": "stream",
     "text": [
      "Logistic: f1=0.000 auc=0.788\n"
     ]
    },
    {
     "data": {
      "image/png": "[encoded data removed]",
      "text/plain": [
       "<Figure size 432x288 with 1 Axes>"
      ]
     },
     "metadata": {
      "needs_background": "light"
     },
     "output_type": "display_data"
    },
    {
     "name": "stderr",
     "output_type": "stream",
     "text": [
      "[I 2021-06-10 07:56:58,236] Trial 8 finished with value: 0.16080808080808082 and parameters: {'n_estimators': 250, 'max_depth': 16, 'colsample_bylevel': 0.7, 'max_bin': 127, 'eta': 0.2, 'subsample': 1.0}. Best is trial 1 with value: 0.3905050505050506.\n"
     ]
    },
    {
     "name": "stdout",
     "output_type": "stream",
     "text": [
      "Starting fit\n",
      "Starting fit\n"
     ]
    },
    {
     "name": "stderr",
     "output_type": "stream",
     "text": [
      "[I 2021-06-10 08:06:04,241] Trial 6 finished with value: 0.8853716954879746 and parameters: {'n_estimators': 450, 'max_depth': 16, 'colsample_bylevel': 0.6, 'max_bin': 511, 'eta': 0.05, 'subsample': 0.8}. Best is trial 12 with value: 0.9069347900161853.\n",
      "[I 2021-06-10 08:06:55,138] Trial 30 finished with value: 0.27936507936507937 and parameters: {'n_estimators': 300, 'max_depth': 16, 'colsample_bylevel': 0.9, 'max_bin': 127, 'eta': 0.1, 'subsample': 0.8}. Best is trial 95 with value: 0.5498148909913616.\n"
     ]
    },
    {
     "name": "stdout",
     "output_type": "stream",
     "text": [
      "Starting fit\n"
     ]
    },
    {
     "name": "stderr",
     "output_type": "stream",
     "text": [
      "[I 2021-06-10 08:17:17,996] Trial 2 finished with value: 0.30569430569430567 and parameters: {'n_estimators': 450, 'max_depth': 16, 'colsample_bylevel': 1.0, 'max_bin': 511, 'eta': 0.2, 'subsample': 0.9}. Best is trial 95 with value: 0.5498148909913616.\n"
     ]
    }
   ],
   "source": [
    "from sklearn.metrics import precision_recall_curve\n",
    "from sklearn.metrics import f1_score\n",
    "from sklearn.metrics import auc\n",
    "\n",
    "# predict probabilities\n",
    "lr_probs = model.predict_proba(X_test)\n",
    "# keep probabilities for the positive outcome only\n",
    "lr_probs = lr_probs[:, 1]\n",
    "# predict class values\n",
    "testy = y_test\n",
    "yhat = model.predict(X_test)\n",
    "lr_precision, lr_recall, _ = precision_recall_curve(y_test, lr_probs)\n",
    "lr_f1, lr_auc = f1_score(y_test, yhat), auc(lr_recall, lr_precision)\n",
    "# summarize scores\n",
    "print('Logistic: f1=%.3f auc=%.3f' % (lr_f1, lr_auc))\n",
    "# plot the precision-recall curves\n",
    "no_skill = len(testy[testy==1]) / len(testy)\n",
    "pyplot.plot([0, 1], [no_skill, no_skill], linestyle='--', label='No Skill')\n",
    "pyplot.plot(lr_recall, lr_precision, marker='.', label='Logistic')\n",
    "# axis labels\n",
    "pyplot.xlabel('Recall')\n",
    "pyplot.ylabel('Precision')\n",
    "# show the legend\n",
    "pyplot.legend()\n",
    "# show the plot\n",
    "pyplot.show()"
   ]
  },
  {
   "cell_type": "code",
   "execution_count": null,
   "metadata": {},
   "outputs": [],
   "source": []
  },
  {
   "cell_type": "code",
   "execution_count": null,
   "metadata": {},
   "outputs": [],
   "source": []
  }
 ],
 "metadata": {
  "kernelspec": {
   "display_name": "Python 3",
   "language": "python",
   "name": "python3"
  },
  "language_info": {
   "codemirror_mode": {
    "name": "ipython",
    "version": 3
   },
   "file_extension": ".py",
   "mimetype": "text/x-python",
   "name": "python",
   "nbconvert_exporter": "python",
   "pygments_lexer": "ipython3",
   "version": "3.6.9"
  }
 },
 "nbformat": 4,
 "nbformat_minor": 4
}
